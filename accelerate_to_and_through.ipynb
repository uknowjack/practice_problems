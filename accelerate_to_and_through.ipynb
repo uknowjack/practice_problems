{
 "cells": [
  {
   "cell_type": "code",
   "execution_count": 1,
   "metadata": {
    "ExecuteTime": {
     "end_time": "2019-06-19T14:35:16.451256Z",
     "start_time": "2019-06-19T14:35:16.446645Z"
    }
   },
   "outputs": [],
   "source": [
    "# if i can add a resistance to movement then the acceleration can zero in on a point."
   ]
  },
  {
   "cell_type": "code",
   "execution_count": 2,
   "metadata": {
    "ExecuteTime": {
     "end_time": "2019-06-19T14:35:16.801972Z",
     "start_time": "2019-06-19T14:35:16.455106Z"
    }
   },
   "outputs": [
    {
     "name": "stdout",
     "output_type": "stream",
     "text": [
      "pygame 1.9.6\n",
      "Hello from the pygame community. https://www.pygame.org/contribute.html\n"
     ]
    }
   ],
   "source": [
    "import pygame as pg\n",
    "import random\n",
    "import math\n",
    "import numpy as np\n",
    "import sys"
   ]
  },
  {
   "cell_type": "code",
   "execution_count": 3,
   "metadata": {
    "ExecuteTime": {
     "end_time": "2019-06-19T14:35:17.529942Z",
     "start_time": "2019-06-19T14:35:16.803821Z"
    }
   },
   "outputs": [],
   "source": [
    "pg.init()\n",
    "\n",
    "game_width = 800\n",
    "game_height = 600\n",
    "fps = 60\n",
    "\n",
    "black = (0,0,0)\n",
    "red = (255,0,0)\n",
    "green = (0,255,0)\n",
    "blue = (0,0,255)\n",
    "\n",
    "max_vel = 5\n",
    "max_acc = .05\n",
    "\n",
    "screen = pg.display.set_mode((game_width,game_height))\n",
    "clock = pg.time.Clock()"
   ]
  },
  {
   "cell_type": "code",
   "execution_count": 4,
   "metadata": {
    "ExecuteTime": {
     "end_time": "2019-06-19T14:35:17.540933Z",
     "start_time": "2019-06-19T14:35:17.533824Z"
    }
   },
   "outputs": [],
   "source": [
    "def get_draw_pos(x, size):\n",
    "    pos = x-size/2\n",
    "    return pos\n",
    "\n",
    "def magnitude_calc(vector):\n",
    "    x = 0\n",
    "    for i in vector:\n",
    "        x += i**2\n",
    "    magnitude = x**0.5\n",
    "    return(magnitude)\n",
    "    \n",
    "def normalise(vector):\n",
    "    magnitude = magnitude_calc(vector)\n",
    "    if magnitude != 0:\n",
    "        vector = vector/magnitude\n",
    "    return(vector)"
   ]
  },
  {
   "cell_type": "code",
   "execution_count": 5,
   "metadata": {
    "ExecuteTime": {
     "end_time": "2019-06-19T14:35:17.582088Z",
     "start_time": "2019-06-19T14:35:17.544212Z"
    }
   },
   "outputs": [],
   "source": [
    "class create_point():\n",
    "    def __init__(self, pos_x, pos_y, size, color):\n",
    "        self.position = np.array([pos_x,pos_y], dtype='float64')\n",
    "        self.velocity = np.array([0,0], dtype='float64')\n",
    "        self.acceleration = np.array([0,0], dtype='float64')\n",
    "        self.max_vel = max_vel\n",
    "        self.max_acc = max_acc\n",
    "        self.color = color\n",
    "        self.size = size\n",
    "        self.age= 0\n",
    "    \n",
    "    def race_to(self, target):\n",
    "        distance = np.add(target, -self.position)\n",
    "        desired_vel = normalise(distance)*self.max_vel\n",
    "        delta_vel = np.add(desired_vel, -self.velocity)\n",
    "        self.acceleration = normalise(delta_vel)*self.max_acc\n",
    "        \n",
    "    def seek (self, target):\n",
    "        dis_to_target = np.add(target, -self.position)\n",
    "        desired_vel = normalise(dis_to_target)*self.max_vel\n",
    "        delta_vel = np.add(desired_vel, -self.velocity)\n",
    "\n",
    "        if np.array_equal(delta_vel, np.array([0,0], dtype='float64')):\n",
    "            directional_acc = normalise(dis_to_target)*self.max_acc\n",
    "        else:\n",
    "            directional_acc = normalise(delta_vel)*self.max_acc\n",
    "\n",
    "        time_to_stop = round(round(magnitude_calc(self.velocity),3)/round(magnitude_calc(directional_acc),3))\n",
    "\n",
    "        time_to_stop = int(time_to_stop)\n",
    "        dis_required_to_stop = np.array([0,0], dtype='float64')\n",
    "\n",
    "        for i in range(time_to_stop-1):\n",
    "            dis_required_to_stop = np.add(dis_required_to_stop, (i+1)*np.absolute(directional_acc))\n",
    "\n",
    "        if magnitude_calc(dis_to_target) <= magnitude_calc(dis_required_to_stop):\n",
    "            desired_vel = np.array([0,0], dtype='float64')\n",
    "            delta_vel = np.add(desired_vel, -self.velocity)\n",
    "            self.acceleration = normalise(delta_vel)*self.max_acc\n",
    "        else:\n",
    "            self.acceleration = directional_acc\n",
    "            \n",
    "    def stop_at(self, target): # not perfect. I dont know what happens to \n",
    "        dis_to_target = np.add(target, -self.position)\n",
    "        dir_vel = normalise(dis_to_target)*self.max_vel\n",
    "        delta_vel = np.add(dir_vel, -self.velocity)\n",
    "        \n",
    "        if magnitude_calc(dis_to_target) < 2*self.max_acc and magnitude_calc(self.velocity) < 2*self.max_acc:\n",
    "            self.position = target\n",
    "            self.velocity = np.array([0,0], dtype='float64')\n",
    "            self.acceleration = np.array([0,0], dtype='float64')\n",
    "            return\n",
    "        \n",
    "        if np.array_equal(delta_vel, np.array([0,0], dtype='float64')):\n",
    "            dir_acc = normalise(dis_to_target)*self.max_acc\n",
    "        else:\n",
    "            dir_acc = normalise(delta_vel)*self.max_acc\n",
    "\n",
    "        time_to_stop = round(round(magnitude_calc(self.velocity),3)/round(magnitude_calc(dir_acc),3))\n",
    "\n",
    "        time_to_stop = int(time_to_stop)\n",
    "        dis_required_to_stop = np.array([0,0], dtype='float64')\n",
    "\n",
    "        for i in range(time_to_stop):\n",
    "            dis_required_to_stop = np.add(dis_required_to_stop, (i+1)*np.absolute(dir_acc))\n",
    "\n",
    "        if magnitude_calc(dis_to_target) <= magnitude_calc(dis_required_to_stop)+magnitude_calc(self.velocity):\n",
    "            desired_vel = np.array([0,0], dtype='float64')\n",
    "            delta_vel = np.add(desired_vel, -self.velocity)\n",
    "            self.acceleration = normalise(delta_vel)*self.max_acc\n",
    "        else:\n",
    "            self.acceleration = dir_acc\n",
    "    \n",
    "    def print_attributes(self):\n",
    "        print(\"Acc: \"+str(self.acceleration), \", Vel: \"+str(self.velocity), \", Pos: \"+str(self.position))\n",
    "        \n",
    "    def update(self):\n",
    "        if magnitude_calc(self.velocity) > self.max_vel:\n",
    "            self.acceleration *= 0\n",
    "            self.velocity = normalise(self.velocity)*self.max_vel\n",
    "        else:\n",
    "            self.velocity += self.acceleration\n",
    "        self.position += self.velocity\n",
    "        self.age += 1\n",
    "    \n",
    "    def draw(self):\n",
    "        pg.draw.ellipse(screen, self.color, (get_draw_pos(self.position[0],self.size), get_draw_pos(self.position[1],self.size), self.size, self.size))\n",
    "        "
   ]
  },
  {
   "cell_type": "code",
   "execution_count": 6,
   "metadata": {
    "ExecuteTime": {
     "end_time": "2019-06-19T14:36:00.081545Z",
     "start_time": "2019-06-19T14:35:17.584135Z"
    }
   },
   "outputs": [
    {
     "name": "stdout",
     "output_type": "stream",
     "text": [
      "\n",
      "466\n"
     ]
    }
   ],
   "source": [
    "test = []\n",
    "\n",
    "test.append(create_point(100,400,15,green))\n",
    "test.append(create_point(150,300,15,red))\n",
    "\n",
    "test[0].acceleration = np.array([-.1,-.1], dtype='float64')\n",
    "test[0].velocity = np.array([-2,2], dtype='float64')\n",
    "\n",
    "hit = False\n",
    "hit2 = False\n",
    "game_over = False\n",
    "while not game_over:\n",
    "# for i in range(50):\n",
    "    screen.fill(black)\n",
    "\n",
    "    target = test[1].position\n",
    "    \n",
    "#     print()\n",
    "#     test[0].print_attributes()\n",
    "    test[0].stop_at(target)\n",
    "    \n",
    "    for t in test:   \n",
    "        t.update()\n",
    "        t.draw()\n",
    "    \n",
    "    if np.array_equal(test[0].position, target) and hit and hit2:\n",
    "        game_over = True\n",
    "    if np.array_equal(test[0].position, target) and hit:\n",
    "        hit2 = True\n",
    "    if np.array_equal(test[0].position, target):\n",
    "        hit = True\n",
    "    \n",
    "    pg.display.update()\n",
    "    clock.tick(fps)\n",
    "    \n",
    "    for event in pg.event.get():\n",
    "\n",
    "        if event.type == pg.QUIT:\n",
    "            game_over == True\n",
    "            print(\"EXITED\")\n",
    "\n",
    "            sys.exit()\n",
    "print()\n",
    "print(test[0].age)\n",
    "pg.quit()\n",
    "quit()"
   ]
  },
  {
   "cell_type": "code",
   "execution_count": null,
   "metadata": {},
   "outputs": [],
   "source": []
  }
 ],
 "metadata": {
  "kernelspec": {
   "display_name": "Python 3",
   "language": "python",
   "name": "python3"
  },
  "language_info": {
   "codemirror_mode": {
    "name": "ipython",
    "version": 3
   },
   "file_extension": ".py",
   "mimetype": "text/x-python",
   "name": "python",
   "nbconvert_exporter": "python",
   "pygments_lexer": "ipython3",
   "version": "3.7.1"
  }
 },
 "nbformat": 4,
 "nbformat_minor": 2
}
