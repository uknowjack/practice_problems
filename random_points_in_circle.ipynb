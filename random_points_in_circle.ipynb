{
 "cells": [
  {
   "cell_type": "code",
   "execution_count": 1,
   "metadata": {
    "ExecuteTime": {
     "end_time": "2019-06-17T03:57:23.747716Z",
     "start_time": "2019-06-17T03:57:23.333189Z"
    }
   },
   "outputs": [
    {
     "name": "stdout",
     "output_type": "stream",
     "text": [
      "pygame 1.9.6\n",
      "Hello from the pygame community. https://www.pygame.org/contribute.html\n"
     ]
    }
   ],
   "source": [
    "import pygame as pg\n",
    "import random\n",
    "import math\n",
    "import numpy as np\n",
    "import sys"
   ]
  },
  {
   "cell_type": "code",
   "execution_count": 2,
   "metadata": {
    "ExecuteTime": {
     "end_time": "2019-06-17T03:57:24.785825Z",
     "start_time": "2019-06-17T03:57:23.750499Z"
    }
   },
   "outputs": [],
   "source": [
    "pg.init()\n",
    "\n",
    "game_width = 800\n",
    "game_height = 600\n",
    "fps = 60\n",
    "\n",
    "black = (0,0,0)\n",
    "red = (255,0,0)\n",
    "green = (0,255,0)\n",
    "blue = (0,0,255)\n",
    "\n",
    "screen = pg.display.set_mode((game_width,game_height))\n",
    "clock = pg.time.Clock()"
   ]
  },
  {
   "cell_type": "code",
   "execution_count": 3,
   "metadata": {
    "ExecuteTime": {
     "end_time": "2019-06-17T03:57:24.795662Z",
     "start_time": "2019-06-17T03:57:24.788522Z"
    }
   },
   "outputs": [],
   "source": [
    "def get_draw_pos(x, size):\n",
    "    pos = x-size/2\n",
    "    return pos\n",
    "\n",
    "class create_point():\n",
    "    def __init__(self, pos_x, pos_y, size):\n",
    "        self.position = np.array([pos_x,pos_y], dtype='float64')\n",
    "        self.size = size\n",
    "    \n",
    "    def draw(self):\n",
    "        pg.draw.ellipse(screen, green, (get_draw_pos(self.position[0],self.size), get_draw_pos(self.position[1],self.size), self.size, self.size))\n",
    "    "
   ]
  },
  {
   "cell_type": "code",
   "execution_count": 4,
   "metadata": {
    "ExecuteTime": {
     "end_time": "2019-06-17T03:59:21.359197Z",
     "start_time": "2019-06-17T03:57:24.799512Z"
    }
   },
   "outputs": [
    {
     "name": "stdout",
     "output_type": "stream",
     "text": [
      "EXITED\n"
     ]
    },
    {
     "ename": "SystemExit",
     "evalue": "",
     "output_type": "error",
     "traceback": [
      "An exception has occurred, use %tb to see the full traceback.\n",
      "\u001b[0;31mSystemExit\u001b[0m\n"
     ]
    },
    {
     "name": "stderr",
     "output_type": "stream",
     "text": [
      "/Users/jackselbo/anaconda3/lib/python3.7/site-packages/IPython/core/interactiveshell.py:3275: UserWarning: To exit: use 'exit', 'quit', or Ctrl-D.\n",
      "  warn(\"To exit: use 'exit', 'quit', or Ctrl-D.\", stacklevel=1)\n"
     ]
    }
   ],
   "source": [
    "points = []\n",
    "circle = [[game_width/2,game_height/2],400]\n",
    "\n",
    "game_over = False\n",
    "while not game_over:\n",
    "    screen.fill(black)\n",
    "    \n",
    "    pg.draw.ellipse(screen, blue, (get_draw_pos(circle[0][0],circle[1]), get_draw_pos(circle[0][1], circle[1]), circle[1], circle[1]))\n",
    "    \n",
    "    r = circle[1]/2 * math.sqrt(random.random())\n",
    "    theta = random.random() * 2 * math.pi\n",
    "    \n",
    "    x = circle[0][0] + int(r * math.cos(theta))\n",
    "    y = circle[0][1] + int(r * math.sin(theta))\n",
    "    points.append(create_point(x,y,5))\n",
    "    \n",
    "    for point in points:\n",
    "        point.draw()\n",
    "    \n",
    "    pg.display.update()\n",
    "    clock.tick(fps)\n",
    "    \n",
    "    for event in pg.event.get():\n",
    "\n",
    "        if event.type == pg.QUIT:\n",
    "            game_over == True\n",
    "            print(\"EXITED\")\n",
    "\n",
    "            sys.exit()\n",
    "            \n",
    "pygame.quit()\n",
    "quit()\n"
   ]
  }
 ],
 "metadata": {
  "kernelspec": {
   "display_name": "Python 3",
   "language": "python",
   "name": "python3"
  },
  "language_info": {
   "codemirror_mode": {
    "name": "ipython",
    "version": 3
   },
   "file_extension": ".py",
   "mimetype": "text/x-python",
   "name": "python",
   "nbconvert_exporter": "python",
   "pygments_lexer": "ipython3",
   "version": "3.7.1"
  }
 },
 "nbformat": 4,
 "nbformat_minor": 2
}
