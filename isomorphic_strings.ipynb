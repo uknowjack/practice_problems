{
 "cells": [
  {
   "cell_type": "code",
   "execution_count": 3,
   "metadata": {
    "ExecuteTime": {
     "end_time": "2019-04-03T15:28:33.745142Z",
     "start_time": "2019-04-03T15:28:33.739764Z"
    }
   },
   "outputs": [
    {
     "name": "stdout",
     "output_type": "stream",
     "text": [
      "[{'e': 'a'}, {'g': 'd'}, {'g': 'd'}]\n"
     ]
    }
   ],
   "source": [
    "# isomorphic stings\n",
    "\n",
    "def isomorphic(s1,s2):\n",
    "#     if len(s1) == len(s2):\n",
    "    maps = []\n",
    "    for i in range(len(s1)):\n",
    "        if s2[i] not in maps:\n",
    "            maps.append({s1[i]:s2[i]})\n",
    "    print(maps)\n",
    "    \n",
    "isomorphic('egg','add')\n",
    "        "
   ]
  },
  {
   "cell_type": "code",
   "execution_count": null,
   "metadata": {},
   "outputs": [],
   "source": []
  }
 ],
 "metadata": {
  "kernelspec": {
   "display_name": "Python 3",
   "language": "python",
   "name": "python3"
  },
  "language_info": {
   "codemirror_mode": {
    "name": "ipython",
    "version": 3
   },
   "file_extension": ".py",
   "mimetype": "text/x-python",
   "name": "python",
   "nbconvert_exporter": "python",
   "pygments_lexer": "ipython3",
   "version": "3.7.1"
  }
 },
 "nbformat": 4,
 "nbformat_minor": 2
}
