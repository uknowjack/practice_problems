{
 "cells": [
  {
   "cell_type": "code",
   "execution_count": 1,
   "metadata": {
    "ExecuteTime": {
     "end_time": "2019-07-27T20:01:15.593463Z",
     "start_time": "2019-07-27T20:01:15.186039Z"
    }
   },
   "outputs": [
    {
     "name": "stdout",
     "output_type": "stream",
     "text": [
      "pygame 1.9.6\n",
      "Hello from the pygame community. https://www.pygame.org/contribute.html\n"
     ]
    }
   ],
   "source": [
    "import pygame as pg\n",
    "import random\n",
    "import math\n",
    "import numpy as np\n",
    "import sys"
   ]
  },
  {
   "cell_type": "code",
   "execution_count": 2,
   "metadata": {
    "ExecuteTime": {
     "end_time": "2019-07-27T20:01:16.477917Z",
     "start_time": "2019-07-27T20:01:15.599279Z"
    }
   },
   "outputs": [],
   "source": [
    "pg.init()\n",
    "\n",
    "game_width = 800\n",
    "game_height = 600\n",
    "fps = 60\n",
    "\n",
    "black = (0,0,0)\n",
    "red = (255,0,0)\n",
    "green = (0,255,0)\n",
    "blue = (0,0,255)\n",
    "\n",
    "screen = pg.display.set_mode((game_width,game_height))\n",
    "clock = pg.time.Clock()"
   ]
  },
  {
   "cell_type": "code",
   "execution_count": 3,
   "metadata": {
    "ExecuteTime": {
     "end_time": "2019-07-27T20:01:16.485254Z",
     "start_time": "2019-07-27T20:01:16.481310Z"
    }
   },
   "outputs": [],
   "source": [
    "def get_draw_pos(x, size):\n",
    "    pos = x-size/2\n",
    "    return pos"
   ]
  },
  {
   "cell_type": "code",
   "execution_count": 4,
   "metadata": {
    "ExecuteTime": {
     "end_time": "2019-07-27T20:01:16.495487Z",
     "start_time": "2019-07-27T20:01:16.488769Z"
    }
   },
   "outputs": [],
   "source": [
    "class create_circle():\n",
    "    def __init__(self, pos_x, pos_y, size):\n",
    "        self.position = np.array([pos_x,pos_y], dtype='float64')\n",
    "        self.size = size\n",
    "        \n",
    "    def draw(self):\n",
    "        pg.draw.ellipse(screen, blue, (get_draw_pos(self.position[0],self.size), get_draw_pos(self.position[1],self.size), self.size, self.size))\n",
    "    "
   ]
  },
  {
   "cell_type": "code",
   "execution_count": 5,
   "metadata": {
    "ExecuteTime": {
     "end_time": "2019-07-27T20:01:16.507653Z",
     "start_time": "2019-07-27T20:01:16.499774Z"
    }
   },
   "outputs": [],
   "source": [
    "class create_point():\n",
    "    def __init__(self, pos_x, pos_y, size):\n",
    "        self.position = np.array([pos_x,pos_y], dtype='float64')\n",
    "        self.size = size\n",
    "    \n",
    "    def draw(self):\n",
    "        pg.draw.ellipse(screen, green, (get_draw_pos(self.position[0],self.size), get_draw_pos(self.position[1],self.size), self.size, self.size))\n",
    "    "
   ]
  },
  {
   "cell_type": "code",
   "execution_count": 6,
   "metadata": {
    "ExecuteTime": {
     "end_time": "2019-07-27T20:01:16.518289Z",
     "start_time": "2019-07-27T20:01:16.511355Z"
    }
   },
   "outputs": [],
   "source": [
    "class create_line():\n",
    "    def __init__(self, start_point, end_point):\n",
    "        self.start_point = start_point.position\n",
    "        self.end_point = end_point.position\n",
    "        self.mid_point = create_point((self.start_point[0]+self.end_point[0])/2, (self.start_point[1]+self.end_point[1])/2, 10)\n",
    "        \n",
    "    def draw(self):\n",
    "        pg.draw.line(screen, red, self.start_point, self.end_point, 3)\n",
    "#         self.mid_point.draw()\n",
    "        "
   ]
  },
  {
   "cell_type": "code",
   "execution_count": 7,
   "metadata": {
    "ExecuteTime": {
     "end_time": "2019-07-27T20:01:16.528214Z",
     "start_time": "2019-07-27T20:01:16.521276Z"
    }
   },
   "outputs": [],
   "source": [
    "def create_points(num_points, circle):\n",
    "    points = []\n",
    "    \n",
    "    r = circle.size/2\n",
    "    theta = (6 * math.pi)/4\n",
    "    \n",
    "    for i in range(num_points):\n",
    "        x = circle.position[0] + int(r * math.cos(theta))\n",
    "        y = circle.position[1] + int(r * math.sin(theta))\n",
    "        points.append(create_point(x,y,10))\n",
    "        theta += (2 * math.pi)/num_points\n",
    "    \n",
    "    return points\n"
   ]
  },
  {
   "cell_type": "code",
   "execution_count": 8,
   "metadata": {
    "ExecuteTime": {
     "end_time": "2019-07-27T20:01:16.537968Z",
     "start_time": "2019-07-27T20:01:16.531359Z"
    }
   },
   "outputs": [],
   "source": [
    "def create_lines(points):\n",
    "    lines = []\n",
    "    half = math.floor(len(points)/2)\n",
    "    \n",
    "    for i in range(half):\n",
    "        \n",
    "        counter = 0\n",
    "        last_point_pos = points[0]\n",
    "        \n",
    "        for j in range(len(points)):\n",
    "            \n",
    "            counter += (i+1)\n",
    "            \n",
    "            pointer = counter%len(points)\n",
    "            \n",
    "            lines.append(create_line(last_point_pos, points[pointer]))\n",
    "            last_point_pos = points[pointer]\n",
    "    \n",
    "    return lines\n",
    "    "
   ]
  },
  {
   "cell_type": "code",
   "execution_count": 9,
   "metadata": {
    "ExecuteTime": {
     "end_time": "2019-07-27T20:01:16.547291Z",
     "start_time": "2019-07-27T20:01:16.540399Z"
    }
   },
   "outputs": [],
   "source": [
    "def run_game():\n",
    "    \n",
    "    circle_info = [[game_width/2,game_height/2],400]\n",
    "    circle = [create_circle(circle_info[0][0], circle_info[0][1], circle_info[1])]\n",
    "    points = create_points(21, circle[0])\n",
    "    lines = create_lines(points)\n",
    "\n",
    "    game_over = False\n",
    "    while not game_over:\n",
    "        screen.fill(black)\n",
    "\n",
    "        circle[0].draw()\n",
    "            \n",
    "        for line in lines:\n",
    "            line.draw()\n",
    "\n",
    "        for point in points:\n",
    "            point.draw()\n",
    "        \n",
    "        pg.display.update()\n",
    "        clock.tick(fps)\n",
    "\n",
    "        for event in pg.event.get():\n",
    "\n",
    "            if event.type == pg.QUIT:\n",
    "                game_over == True\n",
    "                print(\"EXITED\")\n",
    "\n",
    "                sys.exit()\n",
    "\n",
    "    pygame.quit()\n",
    "    quit()\n"
   ]
  },
  {
   "cell_type": "code",
   "execution_count": 10,
   "metadata": {
    "ExecuteTime": {
     "end_time": "2019-07-27T20:01:51.466692Z",
     "start_time": "2019-07-27T20:01:16.549196Z"
    }
   },
   "outputs": [
    {
     "name": "stdout",
     "output_type": "stream",
     "text": [
      "EXITED\n"
     ]
    },
    {
     "ename": "SystemExit",
     "evalue": "",
     "output_type": "error",
     "traceback": [
      "An exception has occurred, use %tb to see the full traceback.\n",
      "\u001b[0;31mSystemExit\u001b[0m\n"
     ]
    },
    {
     "name": "stderr",
     "output_type": "stream",
     "text": [
      "/Users/jackselbo/anaconda3/lib/python3.7/site-packages/IPython/core/interactiveshell.py:3275: UserWarning: To exit: use 'exit', 'quit', or Ctrl-D.\n",
      "  warn(\"To exit: use 'exit', 'quit', or Ctrl-D.\", stacklevel=1)\n"
     ]
    }
   ],
   "source": [
    "run_game()\n"
   ]
  }
 ],
 "metadata": {
  "kernelspec": {
   "display_name": "Python 3",
   "language": "python",
   "name": "python3"
  },
  "language_info": {
   "codemirror_mode": {
    "name": "ipython",
    "version": 3
   },
   "file_extension": ".py",
   "mimetype": "text/x-python",
   "name": "python",
   "nbconvert_exporter": "python",
   "pygments_lexer": "ipython3",
   "version": "3.7.1"
  }
 },
 "nbformat": 4,
 "nbformat_minor": 2
}
