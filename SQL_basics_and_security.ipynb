{
 "cells": [
  {
   "cell_type": "code",
   "execution_count": 1,
   "metadata": {
    "ExecuteTime": {
     "end_time": "2019-06-25T21:26:35.061562Z",
     "start_time": "2019-06-25T21:26:34.885100Z"
    }
   },
   "outputs": [
    {
     "name": "stdout",
     "output_type": "stream",
     "text": [
      "importing Jupyter notebook from keys.ipynb\n"
     ]
    }
   ],
   "source": [
    "# keys is a local file that has info to log in\n",
    "# dvdrental is a file i got to work in pgadmin4 and here but not sure how to directly get a db to work without pgadmin first\n",
    "# best practice is to include sql queries on one grouping instead of combining pieces of queries\n",
    "\n",
    "import psycopg2\n",
    "import import_ipynb\n",
    "import keys"
   ]
  },
  {
   "cell_type": "code",
   "execution_count": 2,
   "metadata": {
    "ExecuteTime": {
     "end_time": "2019-06-25T21:26:35.075224Z",
     "start_time": "2019-06-25T21:26:35.064739Z"
    }
   },
   "outputs": [],
   "source": [
    "conn = psycopg2.connect(host=keys.get_host(), database='dvdrental', user=keys.get_user() ,password=keys.get_secret(), port=5433) \n"
   ]
  },
  {
   "cell_type": "code",
   "execution_count": 3,
   "metadata": {
    "ExecuteTime": {
     "end_time": "2019-06-25T21:26:35.083856Z",
     "start_time": "2019-06-25T21:26:35.078705Z"
    }
   },
   "outputs": [],
   "source": [
    "cur = conn.cursor()"
   ]
  },
  {
   "cell_type": "code",
   "execution_count": 4,
   "metadata": {
    "ExecuteTime": {
     "end_time": "2019-06-25T21:26:35.113220Z",
     "start_time": "2019-06-25T21:26:35.088915Z"
    }
   },
   "outputs": [
    {
     "name": "stdout",
     "output_type": "stream",
     "text": [
      "(17503, 341, 2, 1520, Decimal('7.99'), datetime.datetime(2007, 2, 15, 22, 25, 46, 996577))\n",
      "7.99\n"
     ]
    }
   ],
   "source": [
    "# Test case 1\n",
    "cur.execute('SELECT * FROM payment;')\n",
    "data = cur.fetchmany(10)\n",
    "print(data[0])\n",
    "print(data[0][4])"
   ]
  },
  {
   "cell_type": "code",
   "execution_count": 5,
   "metadata": {
    "ExecuteTime": {
     "end_time": "2019-06-25T21:26:35.131208Z",
     "start_time": "2019-06-25T21:26:35.123438Z"
    }
   },
   "outputs": [
    {
     "name": "stdout",
     "output_type": "stream",
     "text": [
      "['customer_id', 'store_id', 'first_name', 'last_name', 'email', 'address_id', 'activebool', 'create_date', 'last_update', 'active']\n",
      "('Jared', 'Ely', 'jared.ely@sakilacustomer.org')\n"
     ]
    }
   ],
   "source": [
    "# CHallenge 1\n",
    "\n",
    "cur.execute('SELECT * FROM customer')\n",
    "colnames = [desc[0] for desc in cur.description]\n",
    "print(colnames)\n",
    "cur.execute('SELECT first_name,last_name,email FROM customer;')\n",
    "answer = cur.fetchone()\n",
    "print(answer)\n"
   ]
  },
  {
   "cell_type": "code",
   "execution_count": 6,
   "metadata": {
    "ExecuteTime": {
     "end_time": "2019-06-25T21:26:35.154124Z",
     "start_time": "2019-06-25T21:26:35.139119Z"
    }
   },
   "outputs": [
    {
     "name": "stdout",
     "output_type": "stream",
     "text": [
      "['film_id', 'title', 'description', 'release_year', 'language_id', 'rental_duration', 'rental_rate', 'length', 'replacement_cost', 'rating', 'last_update', 'special_features', 'fulltext']\n",
      "[('NC-17',), ('G',), ('PG',), ('PG-13',), ('R',)]\n"
     ]
    }
   ],
   "source": [
    "# Challenge 2\n",
    "\n",
    "cur.execute('SELECT * FROM film')\n",
    "colnames = [desc[0] for desc in cur.description]\n",
    "print(colnames)\n",
    "cur.execute('SELECT DISTINCT rating FROM film;')\n",
    "answer = cur.fetchmany(10)\n",
    "print(answer)\n"
   ]
  },
  {
   "cell_type": "code",
   "execution_count": 7,
   "metadata": {
    "ExecuteTime": {
     "end_time": "2019-06-25T21:26:35.167744Z",
     "start_time": "2019-06-25T21:26:35.159311Z"
    }
   },
   "outputs": [
    {
     "name": "stdout",
     "output_type": "stream",
     "text": [
      "['customer_id', 'store_id', 'first_name', 'last_name', 'email', 'address_id', 'activebool', 'create_date', 'last_update', 'active']\n",
      "[('nancy.thomas@sakilacustomer.org',)]\n"
     ]
    }
   ],
   "source": [
    "# CHallenge 3\n",
    "# cursor.execute(\"SELECT * FROM student WHERE last_name = %(lname)s\", \n",
    "#                {\"lname\": \"Robert'); DROP TABLE students;--\"})\n",
    "\n",
    "cur.execute('SELECT * FROM customer')\n",
    "colnames = [desc[0] for desc in cur.description]\n",
    "print(colnames)\n",
    "cur.execute('SELECT email from customer WHERE first_name = %(fname)s and last_name = %(lname)s;', {'fname': 'Nancy', 'lname': 'Thomas'})\n",
    "answer = cur.fetchmany(10)\n",
    "print(answer)\n"
   ]
  },
  {
   "cell_type": "code",
   "execution_count": 8,
   "metadata": {
    "ExecuteTime": {
     "end_time": "2019-06-25T21:26:35.187816Z",
     "start_time": "2019-06-25T21:26:35.175370Z"
    }
   },
   "outputs": [
    {
     "name": "stdout",
     "output_type": "stream",
     "text": [
      "['film_id', 'title', 'description', 'release_year', 'language_id', 'rental_duration', 'rental_rate', 'length', 'replacement_cost', 'rating', 'last_update', 'special_features', 'fulltext']\n",
      "[('A Thoughtful Story of a Astronaut And a Composer who must Conquer a Dog in The Sahara Desert',)]\n"
     ]
    }
   ],
   "source": [
    "# CHallenge 4\n",
    "# cursor.execute(\"SELECT * FROM student WHERE last_name = %(lname)s\", \n",
    "#                {\"lname\": \"Robert'); DROP TABLE students;--\"})\n",
    "\n",
    "cur.execute('SELECT * FROM film')\n",
    "colnames = [desc[0] for desc in cur.description]\n",
    "print(colnames)\n",
    "cur.execute('SELECT description FROM film WHERE title = %s;', ('Outlaw Hanky',))\n",
    "answer = cur.fetchmany(10)\n",
    "print(answer)"
   ]
  },
  {
   "cell_type": "code",
   "execution_count": 9,
   "metadata": {
    "ExecuteTime": {
     "end_time": "2019-06-25T21:26:35.206383Z",
     "start_time": "2019-06-25T21:26:35.191832Z"
    }
   },
   "outputs": [
    {
     "name": "stdout",
     "output_type": "stream",
     "text": [
      "['address_id', 'address', 'address2', 'district', 'city_id', 'postal_code', 'phone', 'last_update']\n",
      "[('419009857119',)]\n"
     ]
    }
   ],
   "source": [
    "# CHallenge 5\n",
    "# cursor.execute(\"SELECT * FROM student WHERE last_name = %(lname)s\", \n",
    "#                {\"lname\": \"Robert'); DROP TABLE students;--\"})\n",
    "\n",
    "cur.execute('SELECT * FROM address')\n",
    "colnames = [desc[0] for desc in cur.description]\n",
    "print(colnames)\n",
    "cur.execute('SELECT phone FROM address WHERE address = %s;', ['259 Ipoh Drive'])\n",
    "answer = cur.fetchmany(10)\n",
    "print(answer)"
   ]
  },
  {
   "cell_type": "code",
   "execution_count": 10,
   "metadata": {
    "ExecuteTime": {
     "end_time": "2019-06-25T21:26:35.232649Z",
     "start_time": "2019-06-25T21:26:35.209855Z"
    }
   },
   "outputs": [
    {
     "name": "stdout",
     "output_type": "stream",
     "text": [
      "['payment_id', 'customer_id', 'staff_id', 'rental_id', 'amount', 'payment_date']\n",
      "[(3618,)]\n"
     ]
    }
   ],
   "source": [
    "# CHallenge 6\n",
    "# cursor.execute(\"SELECT * FROM student WHERE last_name = %(lname)s\", \n",
    "#                {\"lname\": \"Robert'); DROP TABLE students;--\"})\n",
    "\n",
    "cur.execute('SELECT * FROM payment')\n",
    "colnames = [desc[0] for desc in cur.description]\n",
    "print(colnames)\n",
    "cur.execute('SELECT COUNT(amount) FROM payment WHERE amount > 5;')\n",
    "answer = cur.fetchmany(10)\n",
    "print(answer)"
   ]
  },
  {
   "cell_type": "code",
   "execution_count": 11,
   "metadata": {
    "ExecuteTime": {
     "end_time": "2019-06-25T21:26:35.257958Z",
     "start_time": "2019-06-25T21:26:35.243160Z"
    }
   },
   "outputs": [
    {
     "name": "stdout",
     "output_type": "stream",
     "text": [
      "['actor_id', 'first_name', 'last_name', 'last_update']\n",
      "[(14,)]\n"
     ]
    }
   ],
   "source": [
    "# Challenge 7\n",
    "# cursor.execute(\"SELECT * FROM student WHERE last_name = %(lname)s\", \n",
    "#                {\"lname\": \"Robert'); DROP TABLE students;--\"})\n",
    "\n",
    "cur.execute('SELECT * FROM actor')\n",
    "colnames = [desc[0] for desc in cur.description]\n",
    "print(colnames)\n",
    "cur.execute('SELECT COUNT(*) FROM actor WHERE last_name LIKE %s;', [\"P%\"])\n",
    "answer = cur.fetchmany(10)\n",
    "print(answer)"
   ]
  },
  {
   "cell_type": "code",
   "execution_count": 12,
   "metadata": {
    "ExecuteTime": {
     "end_time": "2019-06-25T21:26:35.270212Z",
     "start_time": "2019-06-25T21:26:35.260551Z"
    }
   },
   "outputs": [
    {
     "name": "stdout",
     "output_type": "stream",
     "text": [
      "['address_id', 'address', 'address2', 'district', 'city_id', 'postal_code', 'phone', 'last_update']\n",
      "[(378,)]\n"
     ]
    }
   ],
   "source": [
    "# Challenge 8\n",
    "# cursor.execute(\"SELECT * FROM student WHERE last_name = %(lname)s\", \n",
    "#                {\"lname\": \"Robert'); DROP TABLE students;--\"})\n",
    "\n",
    "cur.execute('SELECT * FROM address')\n",
    "colnames = [desc[0] for desc in cur.description]\n",
    "print(colnames)\n",
    "cur.execute('SELECT COUNT(DISTINCT(district)) FROM address')\n",
    "answer = cur.fetchmany(10)\n",
    "print(answer)"
   ]
  },
  {
   "cell_type": "code",
   "execution_count": 13,
   "metadata": {
    "ExecuteTime": {
     "end_time": "2019-06-25T21:26:35.285415Z",
     "start_time": "2019-06-25T21:26:35.274033Z"
    }
   },
   "outputs": [
    {
     "name": "stdout",
     "output_type": "stream",
     "text": [
      "['address_id', 'address', 'address2', 'district', 'city_id', 'postal_code', 'phone', 'last_update']\n",
      "[('Aden',), ('Eastern Visayas',), ('Vaduz',), ('Tokat',), ('Anzotegui',), ('Saint-Denis',), ('Chollanam',), ('Chihuahua',), ('Nyanza',), ('Changhwa',)]\n"
     ]
    }
   ],
   "source": [
    "# Challenge 9\n",
    "# cursor.execute(\"SELECT * FROM student WHERE last_name = %(lname)s\", \n",
    "#                {\"lname\": \"Robert'); DROP TABLE students;--\"})\n",
    "\n",
    "cur.execute('SELECT * FROM address')\n",
    "colnames = [desc[0] for desc in cur.description]\n",
    "print(colnames)\n",
    "cur.execute('SELECT DISTINCT(district) FROM address')\n",
    "answer = cur.fetchmany(10)\n",
    "print(answer)"
   ]
  },
  {
   "cell_type": "code",
   "execution_count": 14,
   "metadata": {
    "ExecuteTime": {
     "end_time": "2019-06-25T21:26:35.307751Z",
     "start_time": "2019-06-25T21:26:35.291929Z"
    }
   },
   "outputs": [
    {
     "name": "stdout",
     "output_type": "stream",
     "text": [
      "['film_id', 'title', 'description', 'release_year', 'language_id', 'rental_duration', 'rental_rate', 'length', 'replacement_cost', 'rating', 'last_update', 'special_features', 'fulltext']\n",
      "[(52,)]\n"
     ]
    }
   ],
   "source": [
    "# Challenge 10\n",
    "# cursor.execute(\"SELECT * FROM student WHERE last_name = %(lname)s\", \n",
    "#                {\"lname\": \"Robert'); DROP TABLE students;--\"})\n",
    "\n",
    "cur.execute('SELECT * FROM film')\n",
    "colnames = [desc[0] for desc in cur.description]\n",
    "print(colnames)\n",
    "cur.execute('SELECT COUNT(*) FROM film WHERE rating = %s AND replacement_cost BETWEEN 5 AND 15', [\"R\"])\n",
    "answer = cur.fetchmany(10)\n",
    "print(answer)"
   ]
  },
  {
   "cell_type": "code",
   "execution_count": 15,
   "metadata": {
    "ExecuteTime": {
     "end_time": "2019-06-25T21:26:35.411593Z",
     "start_time": "2019-06-25T21:26:35.320975Z"
    }
   },
   "outputs": [
    {
     "name": "stdout",
     "output_type": "stream",
     "text": [
      "['film_id', 'title', 'description', 'release_year', 'language_id', 'rental_duration', 'rental_rate', 'length', 'replacement_cost', 'rating', 'last_update', 'special_features', 'fulltext']\n",
      "[(5,)]\n"
     ]
    }
   ],
   "source": [
    "# Challenge 11\n",
    "# cursor.execute(\"SELECT * FROM student WHERE last_name = %(lname)s\", \n",
    "#                {\"lname\": \"Robert'); DROP TABLE students;--\"})\n",
    "\n",
    "cur.execute('SELECT * FROM film')\n",
    "colnames = [desc[0] for desc in cur.description]\n",
    "print(colnames)\n",
    "cur.execute('SELECT COUNT(*) FROM film WHERE title ILIKE %s', [\"%truman%\"])\n",
    "answer = cur.fetchmany(10)\n",
    "print(answer)"
   ]
  },
  {
   "cell_type": "code",
   "execution_count": null,
   "metadata": {},
   "outputs": [],
   "source": []
  },
  {
   "cell_type": "code",
   "execution_count": null,
   "metadata": {},
   "outputs": [],
   "source": []
  },
  {
   "cell_type": "code",
   "execution_count": null,
   "metadata": {},
   "outputs": [],
   "source": []
  },
  {
   "cell_type": "code",
   "execution_count": null,
   "metadata": {},
   "outputs": [],
   "source": []
  },
  {
   "cell_type": "code",
   "execution_count": null,
   "metadata": {},
   "outputs": [],
   "source": []
  },
  {
   "cell_type": "code",
   "execution_count": 16,
   "metadata": {
    "ExecuteTime": {
     "end_time": "2019-06-25T21:26:35.425630Z",
     "start_time": "2019-06-25T21:26:35.418253Z"
    }
   },
   "outputs": [],
   "source": [
    "cur.close()\n",
    "conn.close()"
   ]
  }
 ],
 "metadata": {
  "kernelspec": {
   "display_name": "Python 3",
   "language": "python",
   "name": "python3"
  },
  "language_info": {
   "codemirror_mode": {
    "name": "ipython",
    "version": 3
   },
   "file_extension": ".py",
   "mimetype": "text/x-python",
   "name": "python",
   "nbconvert_exporter": "python",
   "pygments_lexer": "ipython3",
   "version": "3.7.1"
  }
 },
 "nbformat": 4,
 "nbformat_minor": 2
}
