{
 "cells": [
  {
   "cell_type": "code",
   "execution_count": 1,
   "metadata": {
    "ExecuteTime": {
     "end_time": "2019-06-27T18:40:19.653117Z",
     "start_time": "2019-06-27T18:40:19.465381Z"
    }
   },
   "outputs": [
    {
     "name": "stdout",
     "output_type": "stream",
     "text": [
      "importing Jupyter notebook from keys.ipynb\n"
     ]
    }
   ],
   "source": [
    "# keys is a local file that has info to log in\n",
    "# dvdrental is a file i got to work in pgadmin4 and here but not sure how to directly get a db to work without pgadmin first\n",
    "# best practice is to include sql queries on one grouping instead of combining pieces of queries\n",
    "\n",
    "import psycopg2\n",
    "from psycopg2 import sql\n",
    "import import_ipynb\n",
    "import keys"
   ]
  },
  {
   "cell_type": "code",
   "execution_count": 2,
   "metadata": {
    "ExecuteTime": {
     "end_time": "2019-06-27T18:40:19.670211Z",
     "start_time": "2019-06-27T18:40:19.657199Z"
    }
   },
   "outputs": [],
   "source": [
    "# CONFIG for the first database\n",
    "\n",
    "conn = psycopg2.connect(host=keys.get_host(), database='dvdrental', user=keys.get_user() ,password=keys.get_secret(), port=5433) \n",
    "cur = conn.cursor()\n"
   ]
  },
  {
   "cell_type": "code",
   "execution_count": 3,
   "metadata": {
    "ExecuteTime": {
     "end_time": "2019-06-27T18:40:19.692368Z",
     "start_time": "2019-06-27T18:40:19.672660Z"
    }
   },
   "outputs": [
    {
     "name": "stdout",
     "output_type": "stream",
     "text": [
      "actor\n",
      "['actor_id', 'first_name', 'last_name', 'last_update']\n",
      "\n",
      "store\n",
      "['store_id', 'manager_staff_id', 'address_id', 'last_update']\n",
      "\n",
      "address\n",
      "['address_id', 'address', 'address2', 'district', 'city_id', 'postal_code', 'phone', 'last_update']\n",
      "\n",
      "category\n",
      "['category_id', 'name', 'last_update']\n",
      "\n",
      "city\n",
      "['city_id', 'city', 'country_id', 'last_update']\n",
      "\n",
      "country\n",
      "['country_id', 'country', 'last_update']\n",
      "\n",
      "customer\n",
      "['customer_id', 'store_id', 'first_name', 'last_name', 'email', 'address_id', 'activebool', 'create_date', 'last_update', 'active']\n",
      "\n",
      "film_actor\n",
      "['actor_id', 'film_id', 'last_update']\n",
      "\n",
      "film_category\n",
      "['film_id', 'category_id', 'last_update']\n",
      "\n",
      "inventory\n",
      "['inventory_id', 'film_id', 'store_id', 'last_update']\n",
      "\n",
      "language\n",
      "['language_id', 'name', 'last_update']\n",
      "\n",
      "rental\n",
      "['rental_id', 'rental_date', 'inventory_id', 'customer_id', 'return_date', 'staff_id', 'last_update']\n",
      "\n",
      "staff\n",
      "['staff_id', 'first_name', 'last_name', 'address_id', 'email', 'store_id', 'active', 'username', 'password', 'last_update', 'picture']\n",
      "\n",
      "payment\n",
      "['payment_id', 'customer_id', 'staff_id', 'rental_id', 'amount', 'payment_date']\n",
      "\n",
      "film\n",
      "['film_id', 'title', 'description', 'release_year', 'language_id', 'rental_duration', 'rental_rate', 'length', 'replacement_cost', 'rating', 'last_update', 'special_features', 'fulltext']\n",
      "\n"
     ]
    }
   ],
   "source": [
    "# prints the column headers\n",
    "\n",
    "cur.execute('SELECT table_name FROM information_schema.tables WHERE table_type = %s AND table_schema = %s;', ['BASE TABLE', 'public']) \n",
    "tables = cur.fetchall()\n",
    "\n",
    "for table in tables:\n",
    "\n",
    "    print(table[0])\n",
    "    cur.execute('SELECT * FROM '+table[0]+' LIMIT 1;')\n",
    "    colnames = [desc[0] for desc in cur.description]\n",
    "    print(colnames)\n",
    "    print()"
   ]
  },
  {
   "cell_type": "code",
   "execution_count": 4,
   "metadata": {
    "ExecuteTime": {
     "end_time": "2019-06-27T18:40:19.720000Z",
     "start_time": "2019-06-27T18:40:19.696297Z"
    }
   },
   "outputs": [
    {
     "name": "stdout",
     "output_type": "stream",
     "text": [
      "(17503, 341, 2, 1520, Decimal('7.99'), datetime.datetime(2007, 2, 15, 22, 25, 46, 996577))\n",
      "7.99\n"
     ]
    }
   ],
   "source": [
    "# Test case 1\n",
    "cur.execute('SELECT * FROM payment;')\n",
    "data = cur.fetchmany(10)\n",
    "print(data[0])\n",
    "print(data[0][4])"
   ]
  },
  {
   "cell_type": "code",
   "execution_count": 5,
   "metadata": {
    "ExecuteTime": {
     "end_time": "2019-06-27T18:40:19.733743Z",
     "start_time": "2019-06-27T18:40:19.723548Z"
    }
   },
   "outputs": [
    {
     "name": "stdout",
     "output_type": "stream",
     "text": [
      "['customer_id', 'store_id', 'first_name', 'last_name', 'email', 'address_id', 'activebool', 'create_date', 'last_update', 'active']\n",
      "('Jared', 'Ely', 'jared.ely@sakilacustomer.org')\n"
     ]
    }
   ],
   "source": [
    "# CHallenge 1\n",
    "\n",
    "cur.execute('SELECT * FROM customer')\n",
    "colnames = [desc[0] for desc in cur.description]\n",
    "print(colnames)\n",
    "cur.execute('SELECT first_name,last_name,email FROM customer;')\n",
    "answer = cur.fetchone()\n",
    "print(answer)\n"
   ]
  },
  {
   "cell_type": "code",
   "execution_count": 6,
   "metadata": {
    "ExecuteTime": {
     "end_time": "2019-06-27T18:40:19.745993Z",
     "start_time": "2019-06-27T18:40:19.735903Z"
    }
   },
   "outputs": [
    {
     "name": "stdout",
     "output_type": "stream",
     "text": [
      "['film_id', 'title', 'description', 'release_year', 'language_id', 'rental_duration', 'rental_rate', 'length', 'replacement_cost', 'rating', 'last_update', 'special_features', 'fulltext']\n",
      "[('NC-17',), ('G',), ('PG',), ('PG-13',), ('R',)]\n"
     ]
    }
   ],
   "source": [
    "# Challenge 2\n",
    "\n",
    "cur.execute('SELECT * FROM film')\n",
    "colnames = [desc[0] for desc in cur.description]\n",
    "print(colnames)\n",
    "cur.execute('SELECT DISTINCT rating FROM film;')\n",
    "answer = cur.fetchmany(10)\n",
    "print(answer)\n"
   ]
  },
  {
   "cell_type": "code",
   "execution_count": 7,
   "metadata": {
    "ExecuteTime": {
     "end_time": "2019-06-27T18:40:19.754795Z",
     "start_time": "2019-06-27T18:40:19.747974Z"
    }
   },
   "outputs": [
    {
     "name": "stdout",
     "output_type": "stream",
     "text": [
      "['customer_id', 'store_id', 'first_name', 'last_name', 'email', 'address_id', 'activebool', 'create_date', 'last_update', 'active']\n",
      "[('nancy.thomas@sakilacustomer.org',)]\n"
     ]
    }
   ],
   "source": [
    "# CHallenge 3\n",
    "# cursor.execute(\"SELECT * FROM student WHERE last_name = %(lname)s\", \n",
    "#                {\"lname\": \"Robert'); DROP TABLE students;--\"})\n",
    "\n",
    "cur.execute('SELECT * FROM customer')\n",
    "colnames = [desc[0] for desc in cur.description]\n",
    "print(colnames)\n",
    "cur.execute('SELECT email from customer WHERE first_name = %(fname)s and last_name = %(lname)s;', {'fname': 'Nancy', 'lname': 'Thomas'})\n",
    "answer = cur.fetchmany(10)\n",
    "print(answer)\n"
   ]
  },
  {
   "cell_type": "code",
   "execution_count": 8,
   "metadata": {
    "ExecuteTime": {
     "end_time": "2019-06-27T18:40:19.766005Z",
     "start_time": "2019-06-27T18:40:19.756911Z"
    }
   },
   "outputs": [
    {
     "name": "stdout",
     "output_type": "stream",
     "text": [
      "['film_id', 'title', 'description', 'release_year', 'language_id', 'rental_duration', 'rental_rate', 'length', 'replacement_cost', 'rating', 'last_update', 'special_features', 'fulltext']\n",
      "[('A Thoughtful Story of a Astronaut And a Composer who must Conquer a Dog in The Sahara Desert',)]\n"
     ]
    }
   ],
   "source": [
    "# CHallenge 4\n",
    "# cursor.execute(\"SELECT * FROM student WHERE last_name = %(lname)s\", \n",
    "#                {\"lname\": \"Robert'); DROP TABLE students;--\"})\n",
    "\n",
    "cur.execute('SELECT * FROM film')\n",
    "colnames = [desc[0] for desc in cur.description]\n",
    "print(colnames)\n",
    "cur.execute('SELECT description FROM film WHERE title = %s;', ('Outlaw Hanky',))\n",
    "answer = cur.fetchmany(10)\n",
    "print(answer)"
   ]
  },
  {
   "cell_type": "code",
   "execution_count": 9,
   "metadata": {
    "ExecuteTime": {
     "end_time": "2019-06-27T18:40:19.781093Z",
     "start_time": "2019-06-27T18:40:19.768199Z"
    }
   },
   "outputs": [
    {
     "name": "stdout",
     "output_type": "stream",
     "text": [
      "['address_id', 'address', 'address2', 'district', 'city_id', 'postal_code', 'phone', 'last_update']\n",
      "[('419009857119',)]\n"
     ]
    }
   ],
   "source": [
    "# CHallenge 5\n",
    "# cursor.execute(\"SELECT * FROM student WHERE last_name = %(lname)s\", \n",
    "#                {\"lname\": \"Robert'); DROP TABLE students;--\"})\n",
    "\n",
    "cur.execute('SELECT * FROM address')\n",
    "colnames = [desc[0] for desc in cur.description]\n",
    "print(colnames)\n",
    "cur.execute('SELECT phone FROM address WHERE address = %s;', ['259 Ipoh Drive'])\n",
    "answer = cur.fetchmany(10)\n",
    "print(answer)"
   ]
  },
  {
   "cell_type": "code",
   "execution_count": 10,
   "metadata": {
    "ExecuteTime": {
     "end_time": "2019-06-27T18:40:19.810384Z",
     "start_time": "2019-06-27T18:40:19.785847Z"
    }
   },
   "outputs": [
    {
     "name": "stdout",
     "output_type": "stream",
     "text": [
      "['payment_id', 'customer_id', 'staff_id', 'rental_id', 'amount', 'payment_date']\n",
      "[(3618,)]\n"
     ]
    }
   ],
   "source": [
    "# CHallenge 6\n",
    "\n",
    "cur.execute('SELECT * FROM payment')\n",
    "colnames = [desc[0] for desc in cur.description]\n",
    "print(colnames)\n",
    "cur.execute('SELECT COUNT(amount) FROM payment WHERE amount > 5;')\n",
    "answer = cur.fetchmany(10)\n",
    "print(answer)"
   ]
  },
  {
   "cell_type": "code",
   "execution_count": 11,
   "metadata": {
    "ExecuteTime": {
     "end_time": "2019-06-27T18:40:19.821588Z",
     "start_time": "2019-06-27T18:40:19.812527Z"
    }
   },
   "outputs": [
    {
     "name": "stdout",
     "output_type": "stream",
     "text": [
      "['actor_id', 'first_name', 'last_name', 'last_update']\n",
      "[(14,)]\n"
     ]
    }
   ],
   "source": [
    "# Challenge 7\n",
    "\n",
    "cur.execute('SELECT * FROM actor')\n",
    "colnames = [desc[0] for desc in cur.description]\n",
    "print(colnames)\n",
    "cur.execute('SELECT COUNT(*) FROM actor WHERE last_name LIKE %s;', [\"P%\"])\n",
    "answer = cur.fetchmany(10)\n",
    "print(answer)"
   ]
  },
  {
   "cell_type": "code",
   "execution_count": 12,
   "metadata": {
    "ExecuteTime": {
     "end_time": "2019-06-27T18:40:19.830559Z",
     "start_time": "2019-06-27T18:40:19.823471Z"
    }
   },
   "outputs": [
    {
     "name": "stdout",
     "output_type": "stream",
     "text": [
      "['address_id', 'address', 'address2', 'district', 'city_id', 'postal_code', 'phone', 'last_update']\n",
      "[(378,)]\n"
     ]
    }
   ],
   "source": [
    "# Challenge 8\n",
    "\n",
    "cur.execute('SELECT * FROM address')\n",
    "colnames = [desc[0] for desc in cur.description]\n",
    "print(colnames)\n",
    "cur.execute('SELECT COUNT(DISTINCT(district)) FROM address')\n",
    "answer = cur.fetchmany(10)\n",
    "print(answer)"
   ]
  },
  {
   "cell_type": "code",
   "execution_count": 13,
   "metadata": {
    "ExecuteTime": {
     "end_time": "2019-06-27T18:40:19.846215Z",
     "start_time": "2019-06-27T18:40:19.838338Z"
    }
   },
   "outputs": [
    {
     "name": "stdout",
     "output_type": "stream",
     "text": [
      "['address_id', 'address', 'address2', 'district', 'city_id', 'postal_code', 'phone', 'last_update']\n",
      "[('Aden',), ('Eastern Visayas',), ('Vaduz',), ('Tokat',), ('Anzotegui',), ('Saint-Denis',), ('Chollanam',), ('Chihuahua',), ('Nyanza',), ('Changhwa',)]\n"
     ]
    }
   ],
   "source": [
    "# Challenge 9\n",
    "\n",
    "cur.execute('SELECT * FROM address')\n",
    "colnames = [desc[0] for desc in cur.description]\n",
    "print(colnames)\n",
    "cur.execute('SELECT DISTINCT(district) FROM address')\n",
    "answer = cur.fetchmany(10)\n",
    "print(answer)"
   ]
  },
  {
   "cell_type": "code",
   "execution_count": 14,
   "metadata": {
    "ExecuteTime": {
     "end_time": "2019-06-27T18:40:19.858377Z",
     "start_time": "2019-06-27T18:40:19.848442Z"
    }
   },
   "outputs": [
    {
     "name": "stdout",
     "output_type": "stream",
     "text": [
      "['film_id', 'title', 'description', 'release_year', 'language_id', 'rental_duration', 'rental_rate', 'length', 'replacement_cost', 'rating', 'last_update', 'special_features', 'fulltext']\n",
      "[(52,)]\n"
     ]
    }
   ],
   "source": [
    "# Challenge 10\n",
    "\n",
    "cur.execute('SELECT * FROM film')\n",
    "colnames = [desc[0] for desc in cur.description]\n",
    "print(colnames)\n",
    "cur.execute('SELECT COUNT(*) FROM film WHERE rating = %s AND replacement_cost BETWEEN 5 AND 15', [\"R\"])\n",
    "answer = cur.fetchmany(10)\n",
    "print(answer)"
   ]
  },
  {
   "cell_type": "code",
   "execution_count": 15,
   "metadata": {
    "ExecuteTime": {
     "end_time": "2019-06-27T18:40:19.873332Z",
     "start_time": "2019-06-27T18:40:19.860451Z"
    }
   },
   "outputs": [
    {
     "name": "stdout",
     "output_type": "stream",
     "text": [
      "['film_id', 'title', 'description', 'release_year', 'language_id', 'rental_duration', 'rental_rate', 'length', 'replacement_cost', 'rating', 'last_update', 'special_features', 'fulltext']\n",
      "[(5,)]\n"
     ]
    }
   ],
   "source": [
    "# Challenge 11\n",
    "\n",
    "cur.execute('SELECT * FROM film')\n",
    "colnames = [desc[0] for desc in cur.description]\n",
    "print(colnames)\n",
    "cur.execute('SELECT COUNT(*) FROM film WHERE title ILIKE %s', [\"%truman%\"])\n",
    "answer = cur.fetchmany(10)\n",
    "print(answer)"
   ]
  },
  {
   "cell_type": "code",
   "execution_count": 16,
   "metadata": {
    "ExecuteTime": {
     "end_time": "2019-06-27T18:40:19.902015Z",
     "start_time": "2019-06-27T18:40:19.875976Z"
    }
   },
   "outputs": [
    {
     "name": "stdout",
     "output_type": "stream",
     "text": [
      "['payment_id', 'customer_id', 'staff_id', 'rental_id', 'amount', 'payment_date']\n",
      "[(1, 7292, Decimal('30252.12')), (2, 7304, Decimal('31059.92'))]\n"
     ]
    }
   ],
   "source": [
    "# Challenge 12\n",
    "\n",
    "cur.execute('SELECT * FROM payment')\n",
    "colnames = [desc[0] for desc in cur.description]\n",
    "print(colnames)\n",
    "cur.execute('SELECT staff_id,COUNT(amount),SUM(amount) FROM payment GROUP BY staff_id')\n",
    "answer = cur.fetchmany(10)\n",
    "print(answer)"
   ]
  },
  {
   "cell_type": "code",
   "execution_count": 17,
   "metadata": {
    "ExecuteTime": {
     "end_time": "2019-06-27T18:40:19.914860Z",
     "start_time": "2019-06-27T18:40:19.903854Z"
    }
   },
   "outputs": [
    {
     "name": "stdout",
     "output_type": "stream",
     "text": [
      "['film_id', 'title', 'description', 'release_year', 'language_id', 'rental_duration', 'rental_rate', 'length', 'replacement_cost', 'rating', 'last_update', 'special_features', 'fulltext']\n",
      "[('NC-17', Decimal('20.1376190476190476')), ('G', Decimal('20.1248314606741573')), ('PG', Decimal('18.9590721649484536')), ('PG-13', Decimal('20.4025560538116592')), ('R', Decimal('20.2310256410256410'))]\n"
     ]
    }
   ],
   "source": [
    "# Challenge 13\n",
    "\n",
    "cur.execute('SELECT * FROM film')\n",
    "colnames = [desc[0] for desc in cur.description]\n",
    "print(colnames)\n",
    "cur.execute('SELECT rating, AVG(replacement_cost) FROM film GROUP BY rating')\n",
    "answer = cur.fetchmany(10)\n",
    "print(answer)"
   ]
  },
  {
   "cell_type": "code",
   "execution_count": 18,
   "metadata": {
    "ExecuteTime": {
     "end_time": "2019-06-27T18:40:19.947276Z",
     "start_time": "2019-06-27T18:40:19.921330Z"
    }
   },
   "outputs": [
    {
     "name": "stdout",
     "output_type": "stream",
     "text": [
      "['payment_id', 'customer_id', 'staff_id', 'rental_id', 'amount', 'payment_date']\n",
      "[(318, Decimal('27.93')), (281, Decimal('32.90')), (248, Decimal('37.87')), (320, Decimal('47.85')), (110, Decimal('49.88'))]\n"
     ]
    }
   ],
   "source": [
    "# Challenge 14\n",
    "\n",
    "cur.execute('SELECT * FROM payment')\n",
    "colnames = [desc[0] for desc in cur.description]\n",
    "print(colnames)\n",
    "cur.execute('SELECT customer_id,SUM(amount) FROM payment GROUP BY customer_id ORDER BY SUM(amount) LIMIT 5')\n",
    "answer = cur.fetchmany(10)\n",
    "print(answer)"
   ]
  },
  {
   "cell_type": "code",
   "execution_count": 19,
   "metadata": {
    "ExecuteTime": {
     "end_time": "2019-06-27T18:40:19.974567Z",
     "start_time": "2019-06-27T18:40:19.950600Z"
    }
   },
   "outputs": [
    {
     "name": "stdout",
     "output_type": "stream",
     "text": [
      "['payment_id', 'customer_id', 'staff_id', 'rental_id', 'amount', 'payment_date']\n",
      "[(144, 40), (526, 42), (148, 45)]\n"
     ]
    }
   ],
   "source": [
    "# Challenge 15\n",
    "\n",
    "cur.execute('SELECT * FROM payment')\n",
    "colnames = [desc[0] for desc in cur.description]\n",
    "print(colnames)\n",
    "cur.execute('SELECT customer_id,COUNT(payment_id) FROM payment GROUP BY customer_id HAVING COUNT(payment_id) >= 40')\n",
    "answer = cur.fetchmany(10)\n",
    "print(answer)"
   ]
  },
  {
   "cell_type": "code",
   "execution_count": 20,
   "metadata": {
    "ExecuteTime": {
     "end_time": "2019-06-27T18:40:19.986020Z",
     "start_time": "2019-06-27T18:40:19.976625Z"
    }
   },
   "outputs": [
    {
     "name": "stdout",
     "output_type": "stream",
     "text": [
      "['film_id', 'title', 'description', 'release_year', 'language_id', 'rental_duration', 'rental_rate', 'length', 'replacement_cost', 'rating', 'last_update', 'special_features', 'fulltext']\n",
      "[('NC-17', Decimal('5.1428571428571429')), ('PG', Decimal('5.0824742268041237')), ('PG-13', Decimal('5.0538116591928251'))]\n"
     ]
    }
   ],
   "source": [
    "# Challenge 16\n",
    "\n",
    "cur.execute('SELECT * FROM film')\n",
    "colnames = [desc[0] for desc in cur.description]\n",
    "print(colnames)\n",
    "cur.execute('SELECT rating, AVG(rental_duration) FROM film GROUP BY rating HAVING AVG(rental_duration) > 5')\n",
    "answer = cur.fetchmany(10)\n",
    "print(answer)"
   ]
  },
  {
   "cell_type": "code",
   "execution_count": 21,
   "metadata": {
    "ExecuteTime": {
     "end_time": "2019-06-27T18:40:20.012315Z",
     "start_time": "2019-06-27T18:40:19.987424Z"
    }
   },
   "outputs": [
    {
     "name": "stdout",
     "output_type": "stream",
     "text": [
      "['payment_id', 'customer_id', 'staff_id', 'rental_id', 'amount', 'payment_date']\n",
      "[(187,), (148,)]\n"
     ]
    }
   ],
   "source": [
    "# Assessment 1.1\n",
    "\n",
    "cur.execute('SELECT * FROM payment')\n",
    "colnames = [desc[0] for desc in cur.description]\n",
    "print(colnames)\n",
    "cur.execute('SELECT customer_id FROM payment WHERE staff_id = 2 GROUP BY customer_id HAVING SUM(amount) >= 110')\n",
    "answer = cur.fetchmany(10)\n",
    "print(answer)"
   ]
  },
  {
   "cell_type": "code",
   "execution_count": 22,
   "metadata": {
    "ExecuteTime": {
     "end_time": "2019-06-27T18:40:20.029375Z",
     "start_time": "2019-06-27T18:40:20.015202Z"
    }
   },
   "outputs": [
    {
     "name": "stdout",
     "output_type": "stream",
     "text": [
      "['film_id', 'title', 'description', 'release_year', 'language_id', 'rental_duration', 'rental_rate', 'length', 'replacement_cost', 'rating', 'last_update', 'special_features', 'fulltext']\n",
      "[(20,)]\n"
     ]
    }
   ],
   "source": [
    "# Assessment 1.2\n",
    "\n",
    "cur.execute('SELECT * FROM film')\n",
    "colnames = [desc[0] for desc in cur.description]\n",
    "print(colnames)\n",
    "cur.execute('SELECT COUNT(film_id) FROM film WHERE title ILIKE %s', ['J%'])\n",
    "answer = cur.fetchmany(10)\n",
    "print(answer)"
   ]
  },
  {
   "cell_type": "code",
   "execution_count": 23,
   "metadata": {
    "ExecuteTime": {
     "end_time": "2019-06-27T18:40:20.040515Z",
     "start_time": "2019-06-27T18:40:20.032733Z"
    }
   },
   "outputs": [
    {
     "name": "stdout",
     "output_type": "stream",
     "text": [
      "['customer_id', 'store_id', 'first_name', 'last_name', 'email', 'address_id', 'activebool', 'create_date', 'last_update', 'active']\n",
      "[('Eddie', 'Tomlin', 434)]\n"
     ]
    }
   ],
   "source": [
    "# Assessment 1.3\n",
    "\n",
    "cur.execute('SELECT * FROM customer')\n",
    "colnames = [desc[0] for desc in cur.description]\n",
    "print(colnames)\n",
    "cur.execute('SELECT first_name,last_name,customer_id FROM customer WHERE first_name ILIKE %s AND address_id < 500 ORDER BY customer_id DESC LIMIT 1', ['E%'])\n",
    "answer = cur.fetchmany(10)\n",
    "print(answer)"
   ]
  },
  {
   "cell_type": "code",
   "execution_count": 24,
   "metadata": {
    "ExecuteTime": {
     "end_time": "2019-06-27T18:40:20.050998Z",
     "start_time": "2019-06-27T18:40:20.042794Z"
    }
   },
   "outputs": [],
   "source": [
    "# DATABASE 2 CONFIG\n",
    "cur.close()\n",
    "conn2 = psycopg2.connect(host=keys.get_host(), database='exercises', user=keys.get_user() ,password=keys.get_secret(), port=5433) \n",
    "cur2 = conn2.cursor()\n"
   ]
  },
  {
   "cell_type": "code",
   "execution_count": 25,
   "metadata": {
    "ExecuteTime": {
     "end_time": "2019-06-27T18:40:20.063727Z",
     "start_time": "2019-06-27T18:40:20.052797Z"
    }
   },
   "outputs": [
    {
     "name": "stdout",
     "output_type": "stream",
     "text": [
      "facilities\n",
      "['facid', 'name', 'membercost', 'guestcost', 'initialoutlay', 'monthlymaintenance']\n",
      "\n",
      "bookings\n",
      "['bookid', 'facid', 'memid', 'starttime', 'slots']\n",
      "\n",
      "members\n",
      "['memid', 'surname', 'firstname', 'address', 'zipcode', 'telephone', 'recommendedby', 'joindate']\n",
      "\n"
     ]
    }
   ],
   "source": [
    "# prints the column headers\n",
    "\n",
    "cur2.execute('SELECT table_name FROM information_schema.tables WHERE table_type = %s AND table_schema = %s;', ['BASE TABLE', 'cd']) \n",
    "tables = cur2.fetchall()\n",
    "\n",
    "for table in tables:\n",
    "\n",
    "    print(table[0])\n",
    "    cur2.execute('SELECT * FROM cd.'+table[0]+' LIMIT 1;')\n",
    "    colnames = [desc[0] for desc in cur2.description]\n",
    "    print(colnames)\n",
    "    print()\n"
   ]
  },
  {
   "cell_type": "code",
   "execution_count": 26,
   "metadata": {
    "ExecuteTime": {
     "end_time": "2019-06-27T18:40:20.070590Z",
     "start_time": "2019-06-27T18:40:20.065255Z"
    }
   },
   "outputs": [
    {
     "name": "stdout",
     "output_type": "stream",
     "text": [
      "['facid', 'name', 'membercost', 'guestcost', 'initialoutlay', 'monthlymaintenance']\n",
      "[(0, 'Tennis Court 1', Decimal('5'), Decimal('25'), Decimal('10000'), Decimal('200')), (1, 'Tennis Court 2', Decimal('5'), Decimal('25'), Decimal('8000'), Decimal('200')), (2, 'Badminton Court', Decimal('0'), Decimal('15.5'), Decimal('4000'), Decimal('50')), (3, 'Table Tennis', Decimal('0'), Decimal('5'), Decimal('320'), Decimal('10')), (4, 'Massage Room 1', Decimal('35'), Decimal('80'), Decimal('4000'), Decimal('3000')), (5, 'Massage Room 2', Decimal('35'), Decimal('80'), Decimal('4000'), Decimal('3000')), (6, 'Squash Court', Decimal('3.5'), Decimal('17.5'), Decimal('5000'), Decimal('80')), (7, 'Snooker Table', Decimal('0'), Decimal('5'), Decimal('450'), Decimal('15')), (8, 'Pool Table', Decimal('0'), Decimal('5'), Decimal('400'), Decimal('15'))]\n"
     ]
    }
   ],
   "source": [
    "# Assessment 2.1\n",
    "\n",
    "cur2.execute('SELECT * FROM cd.facilities')\n",
    "colnames = [desc[0] for desc in cur2.description]\n",
    "print(colnames)\n",
    "cur2.execute('SELECT * FROM cd.facilities')\n",
    "answer = cur2.fetchmany(10)\n",
    "print(answer)\n"
   ]
  },
  {
   "cell_type": "code",
   "execution_count": 27,
   "metadata": {
    "ExecuteTime": {
     "end_time": "2019-06-27T18:40:20.083155Z",
     "start_time": "2019-06-27T18:40:20.073358Z"
    }
   },
   "outputs": [
    {
     "name": "stdout",
     "output_type": "stream",
     "text": [
      "['facid', 'name', 'membercost', 'guestcost', 'initialoutlay', 'monthlymaintenance']\n",
      "[('Tennis Court 1', Decimal('5')), ('Tennis Court 2', Decimal('5')), ('Badminton Court', Decimal('0')), ('Table Tennis', Decimal('0')), ('Massage Room 1', Decimal('35')), ('Massage Room 2', Decimal('35')), ('Squash Court', Decimal('3.5')), ('Snooker Table', Decimal('0')), ('Pool Table', Decimal('0'))]\n"
     ]
    }
   ],
   "source": [
    "# Assessment 2.2\n",
    "\n",
    "cur2.execute('SELECT * FROM cd.facilities')\n",
    "colnames = [desc[0] for desc in cur2.description]\n",
    "print(colnames)\n",
    "cur2.execute('SELECT name,membercost FROM cd.facilities')\n",
    "answer = cur2.fetchmany(10)\n",
    "print(answer)"
   ]
  },
  {
   "cell_type": "code",
   "execution_count": 28,
   "metadata": {
    "ExecuteTime": {
     "end_time": "2019-06-27T18:40:20.093284Z",
     "start_time": "2019-06-27T18:40:20.085765Z"
    }
   },
   "outputs": [
    {
     "name": "stdout",
     "output_type": "stream",
     "text": [
      "['facid', 'name', 'membercost', 'guestcost', 'initialoutlay', 'monthlymaintenance']\n",
      "[('Tennis Court 1', Decimal('5')), ('Tennis Court 2', Decimal('5')), ('Massage Room 1', Decimal('35')), ('Massage Room 2', Decimal('35')), ('Squash Court', Decimal('3.5'))]\n"
     ]
    }
   ],
   "source": [
    "# Assessment 2.3\n",
    "\n",
    "cur2.execute('SELECT * FROM cd.facilities')\n",
    "colnames = [desc[0] for desc in cur2.description]\n",
    "print(colnames)\n",
    "cur2.execute('SELECT name,membercost FROM cd.facilities WHERE membercost > 0')\n",
    "answer = cur2.fetchmany(10)\n",
    "print(answer)"
   ]
  },
  {
   "cell_type": "code",
   "execution_count": 29,
   "metadata": {
    "ExecuteTime": {
     "end_time": "2019-06-27T18:40:20.101833Z",
     "start_time": "2019-06-27T18:40:20.095683Z"
    }
   },
   "outputs": [
    {
     "name": "stdout",
     "output_type": "stream",
     "text": [
      "['facid', 'name', 'membercost', 'guestcost', 'initialoutlay', 'monthlymaintenance']\n",
      "[(4, 'Massage Room 1', Decimal('35'), Decimal('3000')), (5, 'Massage Room 2', Decimal('35'), Decimal('3000'))]\n"
     ]
    }
   ],
   "source": [
    "# Assessment 2.4\n",
    "\n",
    "cur2.execute('SELECT * FROM cd.facilities')\n",
    "colnames = [desc[0] for desc in cur2.description]\n",
    "print(colnames)\n",
    "cur2.execute('SELECT facid, name, membercost, monthlymaintenance FROM cd.facilities WHERE membercost > 0 AND membercost < monthlymaintenance/50')\n",
    "answer = cur2.fetchmany(10)\n",
    "print(answer)\n"
   ]
  },
  {
   "cell_type": "code",
   "execution_count": 30,
   "metadata": {
    "ExecuteTime": {
     "end_time": "2019-06-27T18:40:20.111152Z",
     "start_time": "2019-06-27T18:40:20.104894Z"
    }
   },
   "outputs": [
    {
     "name": "stdout",
     "output_type": "stream",
     "text": [
      "['facid', 'name', 'membercost', 'guestcost', 'initialoutlay', 'monthlymaintenance']\n",
      "[('Tennis Court 1',), ('Tennis Court 2',), ('Table Tennis',)]\n"
     ]
    }
   ],
   "source": [
    "# Assessment 2.5\n",
    "\n",
    "cur2.execute('SELECT * FROM cd.facilities')\n",
    "colnames = [desc[0] for desc in cur2.description]\n",
    "print(colnames)\n",
    "cur2.execute('SELECT name FROM cd.facilities WHERE name ILIKE %s', ['%tennis%'])\n",
    "answer = cur2.fetchmany(10)\n",
    "print(answer)\n"
   ]
  },
  {
   "cell_type": "code",
   "execution_count": 31,
   "metadata": {
    "ExecuteTime": {
     "end_time": "2019-06-27T18:40:20.121071Z",
     "start_time": "2019-06-27T18:40:20.113747Z"
    }
   },
   "outputs": [
    {
     "name": "stdout",
     "output_type": "stream",
     "text": [
      "['facid', 'name', 'membercost', 'guestcost', 'initialoutlay', 'monthlymaintenance']\n",
      "[(1, 'Tennis Court 2', Decimal('5'), Decimal('25'), Decimal('8000'), Decimal('200')), (5, 'Massage Room 2', Decimal('35'), Decimal('80'), Decimal('4000'), Decimal('3000'))]\n"
     ]
    }
   ],
   "source": [
    "# Assessment 2.6\n",
    "\n",
    "cur2.execute('SELECT * FROM cd.facilities')\n",
    "colnames = [desc[0] for desc in cur2.description]\n",
    "print(colnames)\n",
    "cur2.execute('SELECT * FROM cd.facilities WHERE facid IN (1,5);')\n",
    "answer = cur2.fetchmany(10)\n",
    "print(answer)\n"
   ]
  },
  {
   "cell_type": "code",
   "execution_count": 32,
   "metadata": {
    "ExecuteTime": {
     "end_time": "2019-06-27T18:40:20.130078Z",
     "start_time": "2019-06-27T18:40:20.122964Z"
    }
   },
   "outputs": [
    {
     "name": "stdout",
     "output_type": "stream",
     "text": [
      "['memid', 'surname', 'firstname', 'address', 'zipcode', 'telephone', 'recommendedby', 'joindate']\n",
      "[(24, 'Sarwin', 'Ramnaresh', datetime.datetime(2012, 9, 1, 8, 44, 42)), (26, 'Jones', 'Douglas', datetime.datetime(2012, 9, 2, 18, 43, 5)), (27, 'Rumney', 'Henrietta', datetime.datetime(2012, 9, 5, 8, 42, 35)), (28, 'Farrell', 'David', datetime.datetime(2012, 9, 15, 8, 22, 5)), (29, 'Worthington-Smyth', 'Henry', datetime.datetime(2012, 9, 17, 12, 27, 15)), (30, 'Purview', 'Millicent', datetime.datetime(2012, 9, 18, 19, 4, 1)), (33, 'Tupperware', 'Hyacinth', datetime.datetime(2012, 9, 18, 19, 32, 5)), (35, 'Hunt', 'John', datetime.datetime(2012, 9, 19, 11, 32, 45)), (36, 'Crumpet', 'Erica', datetime.datetime(2012, 9, 22, 8, 36, 38)), (37, 'Smith', 'Darren', datetime.datetime(2012, 9, 26, 18, 8, 45))]\n"
     ]
    }
   ],
   "source": [
    "# Assessment 2.7\n",
    "\n",
    "cur2.execute('SELECT * FROM cd.members')\n",
    "colnames = [desc[0] for desc in cur2.description]\n",
    "print(colnames)\n",
    "cur2.execute('SELECT memid, surname, firstname, joindate FROM cd.members WHERE joindate >= %s;',['2012-09-01'])\n",
    "answer = cur2.fetchmany(10)\n",
    "print(answer)\n"
   ]
  },
  {
   "cell_type": "code",
   "execution_count": 33,
   "metadata": {
    "ExecuteTime": {
     "end_time": "2019-06-27T18:40:20.140354Z",
     "start_time": "2019-06-27T18:40:20.131720Z"
    }
   },
   "outputs": [
    {
     "name": "stdout",
     "output_type": "stream",
     "text": [
      "['memid', 'surname', 'firstname', 'address', 'zipcode', 'telephone', 'recommendedby', 'joindate']\n",
      "[('Bader',), ('Baker',), ('Boothe',), ('Butters',), ('Coplin',), ('Crumpet',), ('Dare',), ('Farrell',), ('GUEST',), ('Genting',)]\n"
     ]
    }
   ],
   "source": [
    "# Assessment 2.8\n",
    "\n",
    "cur2.execute('SELECT * FROM cd.members')\n",
    "colnames = [desc[0] for desc in cur2.description]\n",
    "print(colnames)\n",
    "cur2.execute('SELECT DISTINCT surname FROM cd.members ORDER BY surname LIMIT 10;')\n",
    "answer = cur2.fetchmany(10)\n",
    "print(answer)\n"
   ]
  },
  {
   "cell_type": "code",
   "execution_count": 34,
   "metadata": {
    "ExecuteTime": {
     "end_time": "2019-06-27T18:40:20.150130Z",
     "start_time": "2019-06-27T18:40:20.142532Z"
    }
   },
   "outputs": [
    {
     "name": "stdout",
     "output_type": "stream",
     "text": [
      "['memid', 'surname', 'firstname', 'address', 'zipcode', 'telephone', 'recommendedby', 'joindate']\n",
      "[(datetime.datetime(2012, 9, 26, 18, 8, 45),)]\n"
     ]
    }
   ],
   "source": [
    "# Assessment 2.9\n",
    "\n",
    "cur2.execute('SELECT * FROM cd.members')\n",
    "colnames = [desc[0] for desc in cur2.description]\n",
    "print(colnames)\n",
    "cur2.execute('SELECT joindate FROM cd.members ORDER BY memid DESC LIMIT 1;')\n",
    "answer = cur2.fetchmany(10)\n",
    "print(answer)\n"
   ]
  },
  {
   "cell_type": "code",
   "execution_count": 35,
   "metadata": {
    "ExecuteTime": {
     "end_time": "2019-06-27T18:40:20.162626Z",
     "start_time": "2019-06-27T18:40:20.152591Z"
    }
   },
   "outputs": [
    {
     "name": "stdout",
     "output_type": "stream",
     "text": [
      "['facid', 'name', 'membercost', 'guestcost', 'initialoutlay', 'monthlymaintenance']\n",
      "[(6,)]\n"
     ]
    }
   ],
   "source": [
    "# Assessment 2.10\n",
    "\n",
    "cur2.execute('SELECT * FROM cd.facilities')\n",
    "colnames = [desc[0] for desc in cur2.description]\n",
    "print(colnames)\n",
    "cur2.execute('SELECT COUNT(*) FROM cd.facilities WHERE guestcost >= 10;')\n",
    "answer = cur2.fetchmany(10)\n",
    "print(answer)\n"
   ]
  },
  {
   "cell_type": "code",
   "execution_count": 36,
   "metadata": {
    "ExecuteTime": {
     "end_time": "2019-06-27T18:40:20.179748Z",
     "start_time": "2019-06-27T18:40:20.165266Z"
    }
   },
   "outputs": [
    {
     "name": "stdout",
     "output_type": "stream",
     "text": [
      "['bookid', 'facid', 'memid', 'starttime', 'slots']\n",
      "[(5, 122), (3, 422), (7, 426), (8, 471), (6, 540), (2, 570), (1, 588), (0, 591), (4, 648)]\n"
     ]
    }
   ],
   "source": [
    "# Assessment 2.12\n",
    "\n",
    "cur2.execute('SELECT * FROM cd.bookings')\n",
    "colnames = [desc[0] for desc in cur2.description]\n",
    "print(colnames)\n",
    "cur2.execute('SELECT facid,SUM(slots) FROM cd.bookings WHERE starttime >= %s AND starttime < %s GROUP BY facid ORDER BY SUM(slots);', ['2012-09-01', '2012-10-01'])\n",
    "answer = cur2.fetchmany(10)\n",
    "print(answer)\n"
   ]
  },
  {
   "cell_type": "code",
   "execution_count": 37,
   "metadata": {
    "ExecuteTime": {
     "end_time": "2019-06-27T18:40:20.191919Z",
     "start_time": "2019-06-27T18:40:20.182853Z"
    }
   },
   "outputs": [
    {
     "name": "stdout",
     "output_type": "stream",
     "text": [
      "['bookid', 'facid', 'memid', 'starttime', 'slots']\n",
      "[(5, 122), (3, 422), (7, 426), (8, 471), (6, 540), (2, 570), (1, 588), (0, 591), (4, 648)]\n"
     ]
    }
   ],
   "source": [
    "# Assessment 2.13\n",
    "\n",
    "cur2.execute('SELECT * FROM cd.bookings')\n",
    "colnames = [desc[0] for desc in cur2.description]\n",
    "print(colnames)\n",
    "cur2.execute('SELECT facid,SUM(slots) FROM cd.bookings WHERE starttime >= %s AND starttime < %s GROUP BY facid ORDER BY SUM(slots);', ['2012-09-01', '2012-10-01'])\n",
    "answer = cur2.fetchmany(10)\n",
    "print(answer)\n"
   ]
  },
  {
   "cell_type": "code",
   "execution_count": 38,
   "metadata": {
    "ExecuteTime": {
     "end_time": "2019-06-27T18:40:20.206093Z",
     "start_time": "2019-06-27T18:40:20.193478Z"
    }
   },
   "outputs": [
    {
     "name": "stdout",
     "output_type": "stream",
     "text": [
      "['bookid', 'facid', 'memid', 'starttime', 'slots']\n",
      "['facid', 'name', 'membercost', 'guestcost', 'initialoutlay', 'monthlymaintenance']\n",
      "[('Tennis Court 1', datetime.datetime(2012, 9, 21, 8, 0), 0), ('Tennis Court 2', datetime.datetime(2012, 9, 21, 8, 0), 1), ('Tennis Court 1', datetime.datetime(2012, 9, 21, 9, 30), 0), ('Tennis Court 2', datetime.datetime(2012, 9, 21, 10, 0), 1), ('Tennis Court 2', datetime.datetime(2012, 9, 21, 11, 30), 1), ('Tennis Court 1', datetime.datetime(2012, 9, 21, 12, 0), 0), ('Tennis Court 1', datetime.datetime(2012, 9, 21, 13, 30), 0), ('Tennis Court 2', datetime.datetime(2012, 9, 21, 14, 0), 1), ('Tennis Court 1', datetime.datetime(2012, 9, 21, 15, 30), 0), ('Tennis Court 2', datetime.datetime(2012, 9, 21, 16, 0), 1)]\n"
     ]
    }
   ],
   "source": [
    "# Assessment 2.14\n",
    "\n",
    "cur2.execute('SELECT * FROM cd.bookings')\n",
    "colnames = [desc[0] for desc in cur2.description]\n",
    "print(colnames)\n",
    "cur2.execute('SELECT * FROM cd.facilities')\n",
    "colnames = [desc[0] for desc in cur2.description]\n",
    "print(colnames)\n",
    "cur2.execute('SELECT facilities.name, bookings.starttime, bookings.facid FROM cd.bookings INNER JOIN cd.facilities ON cd.facilities.facid = cd.bookings.facid WHERE starttime >= %s AND starttime < %s AND name ILIKE %s;', ['2012-09-21', '2012-09-22', '%Tennis Court%']); \n",
    "answer = cur2.fetchmany(10)\n",
    "print(answer)\n"
   ]
  },
  {
   "cell_type": "code",
   "execution_count": 39,
   "metadata": {
    "ExecuteTime": {
     "end_time": "2019-06-27T18:40:20.263749Z",
     "start_time": "2019-06-27T18:40:20.207570Z"
    }
   },
   "outputs": [
    {
     "name": "stdout",
     "output_type": "stream",
     "text": [
      "['bookid', 'facid', 'memid', 'starttime', 'slots']\n",
      "['memid', 'surname', 'firstname', 'address', 'zipcode', 'telephone', 'recommendedby', 'joindate']\n",
      "[('David', 'Farrell', datetime.datetime(2012, 9, 18, 9, 0), 0), ('David', 'Farrell', datetime.datetime(2012, 9, 18, 17, 30), 0), ('David', 'Farrell', datetime.datetime(2012, 9, 18, 13, 30), 8), ('David', 'Farrell', datetime.datetime(2012, 9, 18, 20, 0), 8), ('David', 'Farrell', datetime.datetime(2012, 9, 19, 9, 30), 0), ('David', 'Farrell', datetime.datetime(2012, 9, 19, 15, 0), 0), ('David', 'Farrell', datetime.datetime(2012, 9, 19, 12, 0), 8), ('David', 'Farrell', datetime.datetime(2012, 9, 20, 15, 30), 6), ('David', 'Farrell', datetime.datetime(2012, 9, 20, 11, 30), 8), ('David', 'Farrell', datetime.datetime(2012, 9, 20, 14, 0), 8)]\n"
     ]
    }
   ],
   "source": [
    "# Assessment 2.15\n",
    "\n",
    "cur2.execute('SELECT * FROM cd.bookings')\n",
    "colnames = [desc[0] for desc in cur2.description]\n",
    "print(colnames)\n",
    "cur2.execute('SELECT * FROM cd.members')\n",
    "colnames = [desc[0] for desc in cur2.description]\n",
    "print(colnames)\n",
    "cur2.execute('SELECT members.firstname, members.surname, bookings.starttime, bookings.facid FROM cd.bookings INNER JOIN cd.facilities ON cd.facilities.facid = cd.bookings.facid INNER JOIN cd.members ON cd.members.memid = cd.bookings.memid WHERE cd.bookings.memid = (SELECT memid FROM cd.members WHERE cd.members.firstname ILIKE %s AND cd.members.surname ILIKE %s);', ['David', 'Farrell']); \n",
    "answer = cur2.fetchmany(10)\n",
    "print(answer)"
   ]
  },
  {
   "cell_type": "code",
   "execution_count": null,
   "metadata": {},
   "outputs": [],
   "source": []
  },
  {
   "cell_type": "code",
   "execution_count": null,
   "metadata": {},
   "outputs": [],
   "source": []
  },
  {
   "cell_type": "code",
   "execution_count": null,
   "metadata": {},
   "outputs": [],
   "source": []
  },
  {
   "cell_type": "raw",
   "metadata": {
    "ExecuteTime": {
     "end_time": "2019-06-26T23:26:18.962434Z",
     "start_time": "2019-06-26T23:26:18.956953Z"
    }
   },
   "source": [
    "cur.close()\n",
    "conn.close()"
   ]
  }
 ],
 "metadata": {
  "kernelspec": {
   "display_name": "Python 3",
   "language": "python",
   "name": "python3"
  },
  "language_info": {
   "codemirror_mode": {
    "name": "ipython",
    "version": 3
   },
   "file_extension": ".py",
   "mimetype": "text/x-python",
   "name": "python",
   "nbconvert_exporter": "python",
   "pygments_lexer": "ipython3",
   "version": "3.7.1"
  }
 },
 "nbformat": 4,
 "nbformat_minor": 2
}
