{
 "cells": [
  {
   "cell_type": "code",
   "execution_count": 1,
   "metadata": {
    "ExecuteTime": {
     "end_time": "2019-06-20T01:14:51.967254Z",
     "start_time": "2019-06-20T01:14:51.646030Z"
    }
   },
   "outputs": [
    {
     "name": "stdout",
     "output_type": "stream",
     "text": [
      "importing Jupyter notebook from keys.ipynb\n"
     ]
    }
   ],
   "source": [
    "# keys is a local file that has info to log in\n",
    "# dvdrental is a file i got to work in pgadmin4 and here but not sure how to directly get a db to work without pgadmin first\n",
    "# best practice is to include sql queries on one grouping instead of combining pieces of queries\n",
    "\n",
    "import psycopg2\n",
    "import import_ipynb\n",
    "import keys"
   ]
  },
  {
   "cell_type": "code",
   "execution_count": 2,
   "metadata": {
    "ExecuteTime": {
     "end_time": "2019-06-20T01:14:52.030075Z",
     "start_time": "2019-06-20T01:14:51.970143Z"
    }
   },
   "outputs": [],
   "source": [
    "conn = psycopg2.connect(host=keys.get_host(), database='dvdrental', user=keys.get_user() ,password=keys.get_secret(), port=5433) \n"
   ]
  },
  {
   "cell_type": "code",
   "execution_count": 3,
   "metadata": {
    "ExecuteTime": {
     "end_time": "2019-06-20T01:14:52.037372Z",
     "start_time": "2019-06-20T01:14:52.033563Z"
    }
   },
   "outputs": [],
   "source": [
    "cur = conn.cursor()"
   ]
  },
  {
   "cell_type": "code",
   "execution_count": 4,
   "metadata": {
    "ExecuteTime": {
     "end_time": "2019-06-20T01:14:52.073011Z",
     "start_time": "2019-06-20T01:14:52.040426Z"
    }
   },
   "outputs": [],
   "source": [
    "cur.execute('SELECT * FROM payment')"
   ]
  },
  {
   "cell_type": "code",
   "execution_count": 5,
   "metadata": {
    "ExecuteTime": {
     "end_time": "2019-06-20T01:14:52.084232Z",
     "start_time": "2019-06-20T01:14:52.078215Z"
    }
   },
   "outputs": [],
   "source": [
    "data = cur.fetchmany(10)"
   ]
  },
  {
   "cell_type": "code",
   "execution_count": 6,
   "metadata": {
    "ExecuteTime": {
     "end_time": "2019-06-20T01:14:52.114550Z",
     "start_time": "2019-06-20T01:14:52.086036Z"
    }
   },
   "outputs": [
    {
     "data": {
      "text/plain": [
       "(17503,\n",
       " 341,\n",
       " 2,\n",
       " 1520,\n",
       " Decimal('7.99'),\n",
       " datetime.datetime(2007, 2, 15, 22, 25, 46, 996577))"
      ]
     },
     "execution_count": 6,
     "metadata": {},
     "output_type": "execute_result"
    }
   ],
   "source": [
    "data[0]"
   ]
  },
  {
   "cell_type": "code",
   "execution_count": 7,
   "metadata": {
    "ExecuteTime": {
     "end_time": "2019-06-20T01:14:52.124028Z",
     "start_time": "2019-06-20T01:14:52.118824Z"
    }
   },
   "outputs": [
    {
     "data": {
      "text/plain": [
       "Decimal('7.99')"
      ]
     },
     "execution_count": 7,
     "metadata": {},
     "output_type": "execute_result"
    }
   ],
   "source": [
    "data[0][4]"
   ]
  },
  {
   "cell_type": "code",
   "execution_count": null,
   "metadata": {},
   "outputs": [],
   "source": []
  }
 ],
 "metadata": {
  "kernelspec": {
   "display_name": "Python 3",
   "language": "python",
   "name": "python3"
  },
  "language_info": {
   "codemirror_mode": {
    "name": "ipython",
    "version": 3
   },
   "file_extension": ".py",
   "mimetype": "text/x-python",
   "name": "python",
   "nbconvert_exporter": "python",
   "pygments_lexer": "ipython3",
   "version": "3.7.1"
  }
 },
 "nbformat": 4,
 "nbformat_minor": 2
}
