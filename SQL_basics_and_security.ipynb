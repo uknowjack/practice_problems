{
 "cells": [
  {
   "cell_type": "code",
   "execution_count": 1,
   "metadata": {
    "ExecuteTime": {
     "end_time": "2019-06-27T01:50:30.439674Z",
     "start_time": "2019-06-27T01:50:30.282135Z"
    }
   },
   "outputs": [
    {
     "name": "stdout",
     "output_type": "stream",
     "text": [
      "importing Jupyter notebook from keys.ipynb\n"
     ]
    }
   ],
   "source": [
    "# keys is a local file that has info to log in\n",
    "# dvdrental is a file i got to work in pgadmin4 and here but not sure how to directly get a db to work without pgadmin first\n",
    "# best practice is to include sql queries on one grouping instead of combining pieces of queries\n",
    "\n",
    "import psycopg2\n",
    "import import_ipynb\n",
    "import keys"
   ]
  },
  {
   "cell_type": "code",
   "execution_count": 2,
   "metadata": {
    "ExecuteTime": {
     "end_time": "2019-06-27T01:50:30.451188Z",
     "start_time": "2019-06-27T01:50:30.442034Z"
    }
   },
   "outputs": [],
   "source": [
    "# CONFIG for the first database\n",
    "\n",
    "conn = psycopg2.connect(host=keys.get_host(), database='dvdrental', user=keys.get_user() ,password=keys.get_secret(), port=5433) \n",
    "cur = conn.cursor()\n"
   ]
  },
  {
   "cell_type": "code",
   "execution_count": 3,
   "metadata": {
    "ExecuteTime": {
     "end_time": "2019-06-27T01:50:30.494270Z",
     "start_time": "2019-06-27T01:50:30.454166Z"
    }
   },
   "outputs": [
    {
     "name": "stdout",
     "output_type": "stream",
     "text": [
      "['table_catalog', 'table_schema', 'table_name', 'table_type', 'self_referencing_column_name', 'reference_generation', 'user_defined_type_catalog', 'user_defined_type_schema', 'user_defined_type_name', 'is_insertable_into', 'is_typed', 'commit_action']\n"
     ]
    }
   ],
   "source": [
    "cur.execute('SELECT * FROM information_schema.tables')\n",
    "colnames = [desc[0] for desc in cur.description]\n",
    "print(colnames)"
   ]
  },
  {
   "cell_type": "code",
   "execution_count": 4,
   "metadata": {
    "ExecuteTime": {
     "end_time": "2019-06-27T01:50:30.532522Z",
     "start_time": "2019-06-27T01:50:30.501321Z"
    }
   },
   "outputs": [
    {
     "name": "stdout",
     "output_type": "stream",
     "text": [
      "(17503, 341, 2, 1520, Decimal('7.99'), datetime.datetime(2007, 2, 15, 22, 25, 46, 996577))\n",
      "7.99\n"
     ]
    }
   ],
   "source": [
    "# Test case 1\n",
    "cur.execute('SELECT * FROM payment;')\n",
    "data = cur.fetchmany(10)\n",
    "print(data[0])\n",
    "print(data[0][4])"
   ]
  },
  {
   "cell_type": "code",
   "execution_count": 5,
   "metadata": {
    "ExecuteTime": {
     "end_time": "2019-06-27T01:50:30.572521Z",
     "start_time": "2019-06-27T01:50:30.536116Z"
    }
   },
   "outputs": [
    {
     "name": "stdout",
     "output_type": "stream",
     "text": [
      "['customer_id', 'store_id', 'first_name', 'last_name', 'email', 'address_id', 'activebool', 'create_date', 'last_update', 'active']\n",
      "('Jared', 'Ely', 'jared.ely@sakilacustomer.org')\n"
     ]
    }
   ],
   "source": [
    "# CHallenge 1\n",
    "\n",
    "cur.execute('SELECT * FROM customer')\n",
    "colnames = [desc[0] for desc in cur.description]\n",
    "print(colnames)\n",
    "cur.execute('SELECT first_name,last_name,email FROM customer;')\n",
    "answer = cur.fetchone()\n",
    "print(answer)\n"
   ]
  },
  {
   "cell_type": "code",
   "execution_count": 6,
   "metadata": {
    "ExecuteTime": {
     "end_time": "2019-06-27T01:50:30.595367Z",
     "start_time": "2019-06-27T01:50:30.575164Z"
    }
   },
   "outputs": [
    {
     "name": "stdout",
     "output_type": "stream",
     "text": [
      "['film_id', 'title', 'description', 'release_year', 'language_id', 'rental_duration', 'rental_rate', 'length', 'replacement_cost', 'rating', 'last_update', 'special_features', 'fulltext']\n",
      "[('NC-17',), ('G',), ('PG',), ('PG-13',), ('R',)]\n"
     ]
    }
   ],
   "source": [
    "# Challenge 2\n",
    "\n",
    "cur.execute('SELECT * FROM film')\n",
    "colnames = [desc[0] for desc in cur.description]\n",
    "print(colnames)\n",
    "cur.execute('SELECT DISTINCT rating FROM film;')\n",
    "answer = cur.fetchmany(10)\n",
    "print(answer)\n"
   ]
  },
  {
   "cell_type": "code",
   "execution_count": 7,
   "metadata": {
    "ExecuteTime": {
     "end_time": "2019-06-27T01:50:30.611944Z",
     "start_time": "2019-06-27T01:50:30.601642Z"
    }
   },
   "outputs": [
    {
     "name": "stdout",
     "output_type": "stream",
     "text": [
      "['customer_id', 'store_id', 'first_name', 'last_name', 'email', 'address_id', 'activebool', 'create_date', 'last_update', 'active']\n",
      "[('nancy.thomas@sakilacustomer.org',)]\n"
     ]
    }
   ],
   "source": [
    "# CHallenge 3\n",
    "# cursor.execute(\"SELECT * FROM student WHERE last_name = %(lname)s\", \n",
    "#                {\"lname\": \"Robert'); DROP TABLE students;--\"})\n",
    "\n",
    "cur.execute('SELECT * FROM customer')\n",
    "colnames = [desc[0] for desc in cur.description]\n",
    "print(colnames)\n",
    "cur.execute('SELECT email from customer WHERE first_name = %(fname)s and last_name = %(lname)s;', {'fname': 'Nancy', 'lname': 'Thomas'})\n",
    "answer = cur.fetchmany(10)\n",
    "print(answer)\n"
   ]
  },
  {
   "cell_type": "code",
   "execution_count": 8,
   "metadata": {
    "ExecuteTime": {
     "end_time": "2019-06-27T01:50:30.624231Z",
     "start_time": "2019-06-27T01:50:30.614892Z"
    }
   },
   "outputs": [
    {
     "name": "stdout",
     "output_type": "stream",
     "text": [
      "['film_id', 'title', 'description', 'release_year', 'language_id', 'rental_duration', 'rental_rate', 'length', 'replacement_cost', 'rating', 'last_update', 'special_features', 'fulltext']\n",
      "[('A Thoughtful Story of a Astronaut And a Composer who must Conquer a Dog in The Sahara Desert',)]\n"
     ]
    }
   ],
   "source": [
    "# CHallenge 4\n",
    "# cursor.execute(\"SELECT * FROM student WHERE last_name = %(lname)s\", \n",
    "#                {\"lname\": \"Robert'); DROP TABLE students;--\"})\n",
    "\n",
    "cur.execute('SELECT * FROM film')\n",
    "colnames = [desc[0] for desc in cur.description]\n",
    "print(colnames)\n",
    "cur.execute('SELECT description FROM film WHERE title = %s;', ('Outlaw Hanky',))\n",
    "answer = cur.fetchmany(10)\n",
    "print(answer)"
   ]
  },
  {
   "cell_type": "code",
   "execution_count": 9,
   "metadata": {
    "ExecuteTime": {
     "end_time": "2019-06-27T01:50:30.636406Z",
     "start_time": "2019-06-27T01:50:30.625895Z"
    }
   },
   "outputs": [
    {
     "name": "stdout",
     "output_type": "stream",
     "text": [
      "['address_id', 'address', 'address2', 'district', 'city_id', 'postal_code', 'phone', 'last_update']\n",
      "[('419009857119',)]\n"
     ]
    }
   ],
   "source": [
    "# CHallenge 5\n",
    "# cursor.execute(\"SELECT * FROM student WHERE last_name = %(lname)s\", \n",
    "#                {\"lname\": \"Robert'); DROP TABLE students;--\"})\n",
    "\n",
    "cur.execute('SELECT * FROM address')\n",
    "colnames = [desc[0] for desc in cur.description]\n",
    "print(colnames)\n",
    "cur.execute('SELECT phone FROM address WHERE address = %s;', ['259 Ipoh Drive'])\n",
    "answer = cur.fetchmany(10)\n",
    "print(answer)"
   ]
  },
  {
   "cell_type": "code",
   "execution_count": 10,
   "metadata": {
    "ExecuteTime": {
     "end_time": "2019-06-27T01:50:30.665172Z",
     "start_time": "2019-06-27T01:50:30.638398Z"
    }
   },
   "outputs": [
    {
     "name": "stdout",
     "output_type": "stream",
     "text": [
      "['payment_id', 'customer_id', 'staff_id', 'rental_id', 'amount', 'payment_date']\n",
      "[(3618,)]\n"
     ]
    }
   ],
   "source": [
    "# CHallenge 6\n",
    "\n",
    "cur.execute('SELECT * FROM payment')\n",
    "colnames = [desc[0] for desc in cur.description]\n",
    "print(colnames)\n",
    "cur.execute('SELECT COUNT(amount) FROM payment WHERE amount > 5;')\n",
    "answer = cur.fetchmany(10)\n",
    "print(answer)"
   ]
  },
  {
   "cell_type": "code",
   "execution_count": 11,
   "metadata": {
    "ExecuteTime": {
     "end_time": "2019-06-27T01:50:30.673898Z",
     "start_time": "2019-06-27T01:50:30.667417Z"
    }
   },
   "outputs": [
    {
     "name": "stdout",
     "output_type": "stream",
     "text": [
      "['actor_id', 'first_name', 'last_name', 'last_update']\n",
      "[(14,)]\n"
     ]
    }
   ],
   "source": [
    "# Challenge 7\n",
    "\n",
    "cur.execute('SELECT * FROM actor')\n",
    "colnames = [desc[0] for desc in cur.description]\n",
    "print(colnames)\n",
    "cur.execute('SELECT COUNT(*) FROM actor WHERE last_name LIKE %s;', [\"P%\"])\n",
    "answer = cur.fetchmany(10)\n",
    "print(answer)"
   ]
  },
  {
   "cell_type": "code",
   "execution_count": 12,
   "metadata": {
    "ExecuteTime": {
     "end_time": "2019-06-27T01:50:30.688017Z",
     "start_time": "2019-06-27T01:50:30.675792Z"
    }
   },
   "outputs": [
    {
     "name": "stdout",
     "output_type": "stream",
     "text": [
      "['address_id', 'address', 'address2', 'district', 'city_id', 'postal_code', 'phone', 'last_update']\n",
      "[(378,)]\n"
     ]
    }
   ],
   "source": [
    "# Challenge 8\n",
    "\n",
    "cur.execute('SELECT * FROM address')\n",
    "colnames = [desc[0] for desc in cur.description]\n",
    "print(colnames)\n",
    "cur.execute('SELECT COUNT(DISTINCT(district)) FROM address')\n",
    "answer = cur.fetchmany(10)\n",
    "print(answer)"
   ]
  },
  {
   "cell_type": "code",
   "execution_count": 13,
   "metadata": {
    "ExecuteTime": {
     "end_time": "2019-06-27T01:50:30.700181Z",
     "start_time": "2019-06-27T01:50:30.692041Z"
    }
   },
   "outputs": [
    {
     "name": "stdout",
     "output_type": "stream",
     "text": [
      "['address_id', 'address', 'address2', 'district', 'city_id', 'postal_code', 'phone', 'last_update']\n",
      "[('Aden',), ('Eastern Visayas',), ('Vaduz',), ('Tokat',), ('Anzotegui',), ('Saint-Denis',), ('Chollanam',), ('Chihuahua',), ('Nyanza',), ('Changhwa',)]\n"
     ]
    }
   ],
   "source": [
    "# Challenge 9\n",
    "\n",
    "cur.execute('SELECT * FROM address')\n",
    "colnames = [desc[0] for desc in cur.description]\n",
    "print(colnames)\n",
    "cur.execute('SELECT DISTINCT(district) FROM address')\n",
    "answer = cur.fetchmany(10)\n",
    "print(answer)"
   ]
  },
  {
   "cell_type": "code",
   "execution_count": 14,
   "metadata": {
    "ExecuteTime": {
     "end_time": "2019-06-27T01:50:30.714562Z",
     "start_time": "2019-06-27T01:50:30.703520Z"
    }
   },
   "outputs": [
    {
     "name": "stdout",
     "output_type": "stream",
     "text": [
      "['film_id', 'title', 'description', 'release_year', 'language_id', 'rental_duration', 'rental_rate', 'length', 'replacement_cost', 'rating', 'last_update', 'special_features', 'fulltext']\n",
      "[(52,)]\n"
     ]
    }
   ],
   "source": [
    "# Challenge 10\n",
    "\n",
    "cur.execute('SELECT * FROM film')\n",
    "colnames = [desc[0] for desc in cur.description]\n",
    "print(colnames)\n",
    "cur.execute('SELECT COUNT(*) FROM film WHERE rating = %s AND replacement_cost BETWEEN 5 AND 15', [\"R\"])\n",
    "answer = cur.fetchmany(10)\n",
    "print(answer)"
   ]
  },
  {
   "cell_type": "code",
   "execution_count": 15,
   "metadata": {
    "ExecuteTime": {
     "end_time": "2019-06-27T01:50:30.727516Z",
     "start_time": "2019-06-27T01:50:30.716972Z"
    }
   },
   "outputs": [
    {
     "name": "stdout",
     "output_type": "stream",
     "text": [
      "['film_id', 'title', 'description', 'release_year', 'language_id', 'rental_duration', 'rental_rate', 'length', 'replacement_cost', 'rating', 'last_update', 'special_features', 'fulltext']\n",
      "[(5,)]\n"
     ]
    }
   ],
   "source": [
    "# Challenge 11\n",
    "\n",
    "cur.execute('SELECT * FROM film')\n",
    "colnames = [desc[0] for desc in cur.description]\n",
    "print(colnames)\n",
    "cur.execute('SELECT COUNT(*) FROM film WHERE title ILIKE %s', [\"%truman%\"])\n",
    "answer = cur.fetchmany(10)\n",
    "print(answer)"
   ]
  },
  {
   "cell_type": "code",
   "execution_count": 16,
   "metadata": {
    "ExecuteTime": {
     "end_time": "2019-06-27T01:50:30.757563Z",
     "start_time": "2019-06-27T01:50:30.729375Z"
    }
   },
   "outputs": [
    {
     "name": "stdout",
     "output_type": "stream",
     "text": [
      "['payment_id', 'customer_id', 'staff_id', 'rental_id', 'amount', 'payment_date']\n",
      "[(1, 7292, Decimal('30252.12')), (2, 7304, Decimal('31059.92'))]\n"
     ]
    }
   ],
   "source": [
    "# Challenge 12\n",
    "\n",
    "cur.execute('SELECT * FROM payment')\n",
    "colnames = [desc[0] for desc in cur.description]\n",
    "print(colnames)\n",
    "cur.execute('SELECT staff_id,COUNT(amount),SUM(amount) FROM payment GROUP BY staff_id')\n",
    "answer = cur.fetchmany(10)\n",
    "print(answer)"
   ]
  },
  {
   "cell_type": "code",
   "execution_count": 17,
   "metadata": {
    "ExecuteTime": {
     "end_time": "2019-06-27T01:50:30.774577Z",
     "start_time": "2019-06-27T01:50:30.759258Z"
    }
   },
   "outputs": [
    {
     "name": "stdout",
     "output_type": "stream",
     "text": [
      "['film_id', 'title', 'description', 'release_year', 'language_id', 'rental_duration', 'rental_rate', 'length', 'replacement_cost', 'rating', 'last_update', 'special_features', 'fulltext']\n",
      "[('NC-17', Decimal('20.1376190476190476')), ('G', Decimal('20.1248314606741573')), ('PG', Decimal('18.9590721649484536')), ('PG-13', Decimal('20.4025560538116592')), ('R', Decimal('20.2310256410256410'))]\n"
     ]
    }
   ],
   "source": [
    "# Challenge 13\n",
    "\n",
    "cur.execute('SELECT * FROM film')\n",
    "colnames = [desc[0] for desc in cur.description]\n",
    "print(colnames)\n",
    "cur.execute('SELECT rating, AVG(replacement_cost) FROM film GROUP BY rating')\n",
    "answer = cur.fetchmany(10)\n",
    "print(answer)"
   ]
  },
  {
   "cell_type": "code",
   "execution_count": 18,
   "metadata": {
    "ExecuteTime": {
     "end_time": "2019-06-27T01:50:30.813505Z",
     "start_time": "2019-06-27T01:50:30.783230Z"
    }
   },
   "outputs": [
    {
     "name": "stdout",
     "output_type": "stream",
     "text": [
      "['payment_id', 'customer_id', 'staff_id', 'rental_id', 'amount', 'payment_date']\n",
      "[(318, Decimal('27.93')), (281, Decimal('32.90')), (248, Decimal('37.87')), (320, Decimal('47.85')), (110, Decimal('49.88'))]\n"
     ]
    }
   ],
   "source": [
    "# Challenge 14\n",
    "\n",
    "cur.execute('SELECT * FROM payment')\n",
    "colnames = [desc[0] for desc in cur.description]\n",
    "print(colnames)\n",
    "cur.execute('SELECT customer_id,SUM(amount) FROM payment GROUP BY customer_id ORDER BY SUM(amount) LIMIT 5')\n",
    "answer = cur.fetchmany(10)\n",
    "print(answer)"
   ]
  },
  {
   "cell_type": "code",
   "execution_count": 19,
   "metadata": {
    "ExecuteTime": {
     "end_time": "2019-06-27T01:50:30.841268Z",
     "start_time": "2019-06-27T01:50:30.818278Z"
    }
   },
   "outputs": [
    {
     "name": "stdout",
     "output_type": "stream",
     "text": [
      "['payment_id', 'customer_id', 'staff_id', 'rental_id', 'amount', 'payment_date']\n",
      "[(144, 40), (526, 42), (148, 45)]\n"
     ]
    }
   ],
   "source": [
    "# Challenge 15\n",
    "\n",
    "cur.execute('SELECT * FROM payment')\n",
    "colnames = [desc[0] for desc in cur.description]\n",
    "print(colnames)\n",
    "cur.execute('SELECT customer_id,COUNT(payment_id) FROM payment GROUP BY customer_id HAVING COUNT(payment_id) >= 40')\n",
    "answer = cur.fetchmany(10)\n",
    "print(answer)"
   ]
  },
  {
   "cell_type": "code",
   "execution_count": 20,
   "metadata": {
    "ExecuteTime": {
     "end_time": "2019-06-27T01:50:30.862876Z",
     "start_time": "2019-06-27T01:50:30.842989Z"
    }
   },
   "outputs": [
    {
     "name": "stdout",
     "output_type": "stream",
     "text": [
      "['film_id', 'title', 'description', 'release_year', 'language_id', 'rental_duration', 'rental_rate', 'length', 'replacement_cost', 'rating', 'last_update', 'special_features', 'fulltext']\n",
      "[('NC-17', Decimal('5.1428571428571429')), ('PG', Decimal('5.0824742268041237')), ('PG-13', Decimal('5.0538116591928251'))]\n"
     ]
    }
   ],
   "source": [
    "# Challenge 16\n",
    "\n",
    "cur.execute('SELECT * FROM film')\n",
    "colnames = [desc[0] for desc in cur.description]\n",
    "print(colnames)\n",
    "cur.execute('SELECT rating, AVG(rental_duration) FROM film GROUP BY rating HAVING AVG(rental_duration) > 5')\n",
    "answer = cur.fetchmany(10)\n",
    "print(answer)"
   ]
  },
  {
   "cell_type": "code",
   "execution_count": 21,
   "metadata": {
    "ExecuteTime": {
     "end_time": "2019-06-27T01:50:30.889302Z",
     "start_time": "2019-06-27T01:50:30.866136Z"
    }
   },
   "outputs": [
    {
     "name": "stdout",
     "output_type": "stream",
     "text": [
      "['payment_id', 'customer_id', 'staff_id', 'rental_id', 'amount', 'payment_date']\n",
      "[(187,), (148,)]\n"
     ]
    }
   ],
   "source": [
    "# Assessment 1.1\n",
    "\n",
    "cur.execute('SELECT * FROM payment')\n",
    "colnames = [desc[0] for desc in cur.description]\n",
    "print(colnames)\n",
    "cur.execute('SELECT customer_id FROM payment WHERE staff_id = 2 GROUP BY customer_id HAVING SUM(amount) >= 110')\n",
    "answer = cur.fetchmany(10)\n",
    "print(answer)"
   ]
  },
  {
   "cell_type": "code",
   "execution_count": 22,
   "metadata": {
    "ExecuteTime": {
     "end_time": "2019-06-27T01:50:30.901305Z",
     "start_time": "2019-06-27T01:50:30.890910Z"
    }
   },
   "outputs": [
    {
     "name": "stdout",
     "output_type": "stream",
     "text": [
      "['film_id', 'title', 'description', 'release_year', 'language_id', 'rental_duration', 'rental_rate', 'length', 'replacement_cost', 'rating', 'last_update', 'special_features', 'fulltext']\n",
      "[(20,)]\n"
     ]
    }
   ],
   "source": [
    "# Assessment 1.2\n",
    "\n",
    "cur.execute('SELECT * FROM film')\n",
    "colnames = [desc[0] for desc in cur.description]\n",
    "print(colnames)\n",
    "cur.execute('SELECT COUNT(film_id) FROM film WHERE title ILIKE %s', ['J%'])\n",
    "answer = cur.fetchmany(10)\n",
    "print(answer)"
   ]
  },
  {
   "cell_type": "code",
   "execution_count": 23,
   "metadata": {
    "ExecuteTime": {
     "end_time": "2019-06-27T01:50:30.914942Z",
     "start_time": "2019-06-27T01:50:30.903490Z"
    }
   },
   "outputs": [
    {
     "name": "stdout",
     "output_type": "stream",
     "text": [
      "['customer_id', 'store_id', 'first_name', 'last_name', 'email', 'address_id', 'activebool', 'create_date', 'last_update', 'active']\n",
      "[('Eddie', 'Tomlin', 434)]\n"
     ]
    }
   ],
   "source": [
    "# Assessment 1.3\n",
    "\n",
    "cur.execute('SELECT * FROM customer')\n",
    "colnames = [desc[0] for desc in cur.description]\n",
    "print(colnames)\n",
    "cur.execute('SELECT first_name,last_name,customer_id FROM customer WHERE first_name ILIKE %s AND address_id < 500 ORDER BY customer_id DESC LIMIT 1', ['E%'])\n",
    "answer = cur.fetchmany(10)\n",
    "print(answer)"
   ]
  },
  {
   "cell_type": "code",
   "execution_count": 24,
   "metadata": {
    "ExecuteTime": {
     "end_time": "2019-06-27T01:50:30.928053Z",
     "start_time": "2019-06-27T01:50:30.917771Z"
    }
   },
   "outputs": [],
   "source": [
    "# DATABASE 2 CONFIG\n",
    "cur.close()\n",
    "conn2 = psycopg2.connect(host=keys.get_host(), database='exercises', user=keys.get_user() ,password=keys.get_secret(), port=5433) \n",
    "cur2 = conn2.cursor()\n"
   ]
  },
  {
   "cell_type": "code",
   "execution_count": 25,
   "metadata": {
    "ExecuteTime": {
     "end_time": "2019-06-27T01:50:30.945263Z",
     "start_time": "2019-06-27T01:50:30.931064Z"
    }
   },
   "outputs": [
    {
     "name": "stdout",
     "output_type": "stream",
     "text": [
      "\n",
      "facilities\n",
      "['facid', 'name', 'membercost', 'guestcost', 'initialoutlay', 'monthlymaintenance']\n",
      "\n",
      "bookings\n",
      "['bookid', 'facid', 'memid', 'starttime', 'slots']\n",
      "\n",
      "members\n",
      "['memid', 'surname', 'firstname', 'address', 'zipcode', 'telephone', 'recommendedby', 'joindate']\n",
      "\n"
     ]
    }
   ],
   "source": [
    "# prints the column headers\n",
    "\n",
    "print()\n",
    "cur2.execute('SELECT table_name FROM information_schema.tables WHERE table_type = %s AND table_schema = %s;', ['BASE TABLE', 'cd']) \n",
    "tables = cur2.fetchall()\n",
    "\n",
    "for table in tables:\n",
    "\n",
    "    print(table[0])\n",
    "    cur2.execute('SELECT * FROM cd.'+table[0]+' LIMIT 1;')\n",
    "    colnames = [desc[0] for desc in cur2.description]\n",
    "    print(colnames)\n",
    "    print()\n"
   ]
  },
  {
   "cell_type": "code",
   "execution_count": 26,
   "metadata": {
    "ExecuteTime": {
     "end_time": "2019-06-27T01:50:30.953525Z",
     "start_time": "2019-06-27T01:50:30.949135Z"
    }
   },
   "outputs": [],
   "source": [
    "# Assessment 2.1\n",
    "\n",
    "# cur.execute('SELECT * FROM customer')\n",
    "# colnames = [desc[0] for desc in cur.description]\n",
    "# print(colnames)\n",
    "# cur.execute('SELECT first_name,last_name,customer_id FROM customer WHERE first_name ILIKE %s AND address_id < 500 ORDER BY customer_id DESC LIMIT 1', ['E%'])\n",
    "# answer = cur.fetchmany(10)\n",
    "# print(answer)\n"
   ]
  },
  {
   "cell_type": "code",
   "execution_count": null,
   "metadata": {},
   "outputs": [],
   "source": []
  },
  {
   "cell_type": "code",
   "execution_count": null,
   "metadata": {},
   "outputs": [],
   "source": []
  },
  {
   "cell_type": "code",
   "execution_count": null,
   "metadata": {},
   "outputs": [],
   "source": []
  },
  {
   "cell_type": "raw",
   "metadata": {
    "ExecuteTime": {
     "end_time": "2019-06-26T23:26:18.962434Z",
     "start_time": "2019-06-26T23:26:18.956953Z"
    }
   },
   "source": [
    "cur.close()\n",
    "conn.close()"
   ]
  }
 ],
 "metadata": {
  "kernelspec": {
   "display_name": "Python 3",
   "language": "python",
   "name": "python3"
  },
  "language_info": {
   "codemirror_mode": {
    "name": "ipython",
    "version": 3
   },
   "file_extension": ".py",
   "mimetype": "text/x-python",
   "name": "python",
   "nbconvert_exporter": "python",
   "pygments_lexer": "ipython3",
   "version": "3.7.1"
  }
 },
 "nbformat": 4,
 "nbformat_minor": 2
}
